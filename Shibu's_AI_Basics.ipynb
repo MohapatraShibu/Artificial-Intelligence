{
  "nbformat": 4,
  "nbformat_minor": 0,
  "metadata": {
    "colab": {
      "name": "6022Shibu_AI_practical.ipynb",
      "provenance": [],
      "collapsed_sections": [
        "Zjo_x07hwuuN",
        "RNVKsczH9GqH",
        "niWf3bw_E-xN",
        "iCp6e6rm-hqz",
        "i8ltfwAE0qWw",
        "v3JJn6NmAJyS",
        "uU_PRV6iquMP",
        "SfJtTsTDCHaA",
        "JTVtNBttwtAn",
        "_26UD5ZuEITV",
        "qpf2PH6ru0gD",
        "K7dUrbhPvJMa",
        "rZz_WGSiaEjV",
        "uEB0wGCYaEjc",
        "wwoPb4r2V4BC",
        "JNb0VzP92sLz",
        "Qe1aD4RA7Bgo",
        "x5jEAhvU09ak",
        "wvrSjeMCn36I",
        "ZlizS1tYpe5S",
        "ook5uY-U698v",
        "a1Y49x0M7WUD",
        "Ozz2y0fB89LP",
        "hMayw3ph9G17",
        "osqY0NRbuOD_"
      ],
      "mount_file_id": "1mLIGSotQAMxW-L-wHQc5_UqRYrYWNcVc",
      "authorship_tag": "ABX9TyPp2coLoVBfs4y8gG8bxMle"
    },
    "kernelspec": {
      "name": "python3",
      "display_name": "Python 3"
    }
  },
  "cells": [
    {
      "cell_type": "markdown",
      "metadata": {
        "id": "L5MEbQABVh7j"
      },
      "source": [
        "# *Artificial Intelligence (AI) PRACTICALS :-*\n",
        "\n",
        "#### 6022 - Shibu Mohapatra"
      ]
    },
    {
      "cell_type": "markdown",
      "metadata": {
        "id": "Zjo_x07hwuuN"
      },
      "source": [
        "---\n",
        "# **Practical 1 -** BFS, DFS & IDDFS\n",
        "> - Implement Breadth first Search algorithm \n",
        "> - Implement Depth First Search Algorithm\n",
        "> - Implement Iterative Deepening DFS Search\n",
        "---"
      ]
    },
    {
      "cell_type": "markdown",
      "metadata": {
        "id": "P1gnKcy4Eyfq"
      },
      "source": [
        "## `A. Breadth First Search`"
      ]
    },
    {
      "cell_type": "markdown",
      "metadata": {
        "id": "RNVKsczH9GqH"
      },
      "source": [
        "### Description\n",
        "\n",
        "* Uses FIFO, expands root node first, expands all nodes at level d before expanding level d+1.\n",
        "\n",
        "* A breadth first search (BFS) explores nodes nearest the root before exploring nodes further away.\n",
        "\n",
        "* After searching A, then B, then C it proceeds towards D, E, F and so on.\n",
        "\n",
        "![](https://drive.google.com/uc?export=view&id=1kadHTK2zyTVki-5vM90BoT371d3Ynvvf)"
      ]
    },
    {
      "cell_type": "markdown",
      "metadata": {
        "id": "cISH2R3PNLz-"
      },
      "source": [
        "### `◘ BFS Graph`\n",
        "\n",
        "![](https://drive.google.com/uc?id=1-fYSGyuhfLDMKczlmr3-oQ-LgFzbjVt-)"
      ]
    },
    {
      "cell_type": "code",
      "metadata": {
        "id": "xIZr840VFCNQ",
        "outputId": "e4ecd15d-f495-4dba-fb6d-9c372d24b750",
        "colab": {
          "base_uri": "https://localhost:8080/"
        }
      },
      "source": [
        "#bfs\n",
        "graph_shibu = {\n",
        "  'A' : ['B','C'],\n",
        "  'B' : ['D', 'E'],\n",
        "  'C' : ['F'],\n",
        "  'D' : [],\n",
        "  'E' : ['F'],\n",
        "  'F' : []\n",
        "}\n",
        "visited = [] \n",
        "queue = []     \n",
        "\n",
        "def bfs(visited, graph_shibu, node):\n",
        "  visited.append(node)\n",
        "  queue.append(node)\n",
        "  while queue:\n",
        "    s = queue.pop(0) \n",
        "    print (s, end = \" \") \n",
        "    for neighbour in graph_shibu[s]:\n",
        "      if neighbour not in visited:\n",
        "        visited.append(neighbour)\n",
        "        queue.append(neighbour)\n",
        "bfs(visited, graph_shibu, 'A')\n",
        "\n",
        "print(\"\\n----------\")\n",
        "print('\\033[1m' + '6022 SHIBU')"
      ],
      "execution_count": null,
      "outputs": [
        {
          "output_type": "stream",
          "text": [
            "A B C D E F \n",
            "----------\n",
            "\u001b[1m6022 SHIBU\n"
          ],
          "name": "stdout"
        }
      ]
    },
    {
      "cell_type": "markdown",
      "metadata": {
        "id": "niWf3bw_E-xN"
      },
      "source": [
        "## `B. Depth First Search`"
      ]
    },
    {
      "cell_type": "markdown",
      "metadata": {
        "id": "iCp6e6rm-hqz"
      },
      "source": [
        "### Description\n",
        "\n",
        "* A depth first search (DFS) explores a path all the way to a leaf before backtracing & exploring another path.\n",
        "\n",
        "* Always expands the deepest nodes in the current fringe. The search proceeds immediately to deepest level of search tree, where nodes have no successors.\n",
        "\n",
        "* Uses LIFO queqe (stack)\n",
        "\n",
        "![](https://drive.google.com/uc?export=view&id=1pcc-p0GzLNaEWWCItlsyZGxV9eqoOLp3)"
      ]
    },
    {
      "cell_type": "markdown",
      "metadata": {
        "id": "1sc1Ny0YNHw8"
      },
      "source": [
        "### `◘ DFS Graph`\n",
        "\n",
        "![](https://drive.google.com/uc?id=15eVDBqs733rJKzKWy2sv75fwX7lXffQA)"
      ]
    },
    {
      "cell_type": "code",
      "metadata": {
        "id": "wYq9qMHMFmME",
        "outputId": "7e213b0c-675d-4f4e-b5f1-09eab72c5d35",
        "colab": {
          "base_uri": "https://localhost:8080/"
        }
      },
      "source": [
        "#dfs\n",
        "\n",
        "graph_shibu = {\n",
        "    'A' : ['B','C'],\n",
        "    'B' : ['D', 'E'],\n",
        "    'C' : ['D'],\n",
        "    'D' : ['E'],\n",
        "    'E' : [],\n",
        "}\n",
        "visited = set()            \n",
        "def dfs(visited, graph_shibu, node):\n",
        "    if node not in visited:\n",
        "        print (node)\n",
        "        visited.add(node)\n",
        "        for neighbour in graph_shibu[node]:\n",
        "            dfs(visited, graph_shibu, neighbour)\n",
        "dfs(visited, graph_shibu, 'A')\n",
        "\n",
        "print(\"\\n----------\")\n",
        "print('\\033[1m' + '6022 SHIBU')"
      ],
      "execution_count": null,
      "outputs": [
        {
          "output_type": "stream",
          "text": [
            "A\n",
            "B\n",
            "D\n",
            "E\n",
            "C\n",
            "\n",
            "----------\n",
            "\u001b[1m6022 SHIBU\n"
          ],
          "name": "stdout"
        }
      ]
    },
    {
      "cell_type": "markdown",
      "metadata": {
        "id": "i8ltfwAE0qWw"
      },
      "source": [
        "## `C. Iterative Deepening DFS Search`"
      ]
    },
    {
      "cell_type": "markdown",
      "metadata": {
        "id": "v3JJn6NmAJyS"
      },
      "source": [
        "### Description:\n",
        "\n",
        "* IDDFS combines depth-first search’s space-efficiency and breadth-first search’s fast search (for nodes closer to root)\n",
        "\n",
        "* Algorithm-\n",
        "\n",
        "`1. First, perform a depth-first search to depth one.`\n",
        " \n",
        "`2. Then, discarding the nodes generated in the first search, start over and do a depth-first search to level two.`\n",
        "\n",
        "`3. Next, start over again and do a depth-first search to depth three, etc., continuing this process until a goal state is reached.`\n",
        "\n",
        "![](https://drive.google.com/uc?export=view&id=1ZQtQoVHPtn0Ic1hmstOXS8K7BgywBWSY)"
      ]
    },
    {
      "cell_type": "markdown",
      "metadata": {
        "id": "3c8hFkX5M1_D"
      },
      "source": [
        "### `◘ IDDFS Graph`\n",
        "\n",
        "![](https://drive.google.com/uc?id=12TZxv_ZS3_PjsrAN-sKOVi3-WwbNDPQ-)"
      ]
    },
    {
      "cell_type": "code",
      "metadata": {
        "id": "OhWj9RLA5sOs",
        "outputId": "3292f976-7c50-4e51-e56f-7ddcd7fe1e05",
        "colab": {
          "base_uri": "https://localhost:8080/"
        }
      },
      "source": [
        "#Iterative Deepening Search DFS\n",
        "\n",
        "graph_shibu = {\n",
        "    '0': ['1'],\n",
        "    '1': ['0', '2'],\n",
        "    '2': ['3', '5', '7', '8'],\n",
        "    '3': ['9', '10'],\n",
        "    '5':['2', '6', '7', '8'],\n",
        "    '6':['5'],\n",
        "    '7':['2','5', '8'],\n",
        "    '8':['2','5', '7'],\n",
        "    '9':['3'],\n",
        "    '10':['3'],  \n",
        "}\n",
        "def DLS(source,depth):\n",
        "    start=graph_shibu[source]\n",
        "    print(source, end=' ')\n",
        "    if start[0] is None:\n",
        "        return\n",
        "    if depth==0:\n",
        "        return\n",
        "    else:\n",
        "        for location in start:\n",
        "            listt = location\n",
        "            for place in listt:\n",
        "                DLS(place,depth-1)\n",
        "\n",
        "def iddfs(source,max_height):\n",
        "    for i in range(max_height+1):\n",
        "        print('depth: '+str(i)+': ',end=' ')\n",
        "        DLS(source,i)\n",
        "        print()\n",
        "\n",
        "iddfs('0',4)\n",
        "\n",
        "print(\"\\n----------\")\n",
        "print('\\033[1m' + '6022 SHIBU')"
      ],
      "execution_count": null,
      "outputs": [
        {
          "output_type": "stream",
          "text": [
            "depth: 0:  0 \n",
            "depth: 1:  0 1 \n",
            "depth: 2:  0 1 0 2 \n",
            "depth: 3:  0 1 0 1 2 3 5 7 8 \n",
            "depth: 4:  0 1 0 1 0 2 2 3 9 1 0 5 2 6 7 8 7 2 5 8 8 2 5 7 \n",
            "\n",
            "----------\n",
            "\u001b[1m6022 SHIBU\n"
          ],
          "name": "stdout"
        }
      ]
    },
    {
      "cell_type": "markdown",
      "metadata": {
        "id": "uU_PRV6iquMP"
      },
      "source": [
        "---\n",
        "# **Practical 2 -** A* search & RBFS\n",
        "> - Implement A* Heuristic search algorithm \n",
        "> - Implement Recurssive Best First Search\n",
        "---"
      ]
    },
    {
      "cell_type": "markdown",
      "metadata": {
        "id": "lcjfQcSiwGkD"
      },
      "source": [
        "## `A* Hueristic Search`"
      ]
    },
    {
      "cell_type": "markdown",
      "metadata": {
        "id": "SfJtTsTDCHaA"
      },
      "source": [
        "### Description:\n",
        "\n",
        "* A* Search algorithm is one of the best and popular technique used in path-finding and graph traversals.\n",
        "\n",
        "*  A* working:\n",
        "1. Node (also called State) — All potential position or stops with a unique identification\n",
        "\n",
        "2. Transition — The act of moving between states or nodes.\n",
        "Starting Node — Whereto start searching\n",
        "\n",
        "3. Goal Node — The target to stop searching.\n",
        "Search Space — A collection of nodes, like all board positions of a board game.\n",
        "\n",
        "4. Cost — Numerical value (say distance, time, or financial expense) for the path from a node to another node.\n",
        "\n",
        "5. g(n) — this represents the exact cost of the path from the starting node to any node n\n",
        "\n",
        "6. h(n) — this represents the heuristic estimated cost from node n to the goal node.\n",
        "\n",
        "7. f(n) — lowest cost in the neighboring node n\n",
        "\n",
        "8. These values we calculate using the following formula: **f(n) = g(n) + h(n)**\n",
        "\n",
        "![](https://drive.google.com/uc?export=view&id=1MDBpinYHa1diBkylWvpdpakHUOM0plfO)"
      ]
    },
    {
      "cell_type": "markdown",
      "metadata": {
        "id": "h_O6vTbXotmi"
      },
      "source": [
        "### `◘ Coding part`"
      ]
    },
    {
      "cell_type": "code",
      "metadata": {
        "id": "19vpvj-zW4VS",
        "outputId": "45ab2854-08d9-4fcd-983f-799357d54995",
        "colab": {
          "base_uri": "https://localhost:8080/"
        }
      },
      "source": [
        "from queue import PriorityQueue\n",
        "\n",
        "class State(object):\n",
        "    def __init__(self, value, parent, start = 0, goal = 0):\n",
        "        self.children = []\n",
        "        self.parent = parent\n",
        "        self.value = value\n",
        "        self.dist = 0\n",
        "        if parent:\n",
        "            self.start = parent.start\n",
        "            self.goal = parent.goal\n",
        "            self.path = parent.path[:]\n",
        "            self.path.append(value)\n",
        "\n",
        "        else:\n",
        "            self.path = [value]\n",
        "            self.start = start\n",
        "            self.goal = goal\n",
        "\n",
        "    def GetDistance(self):\n",
        "        pass\n",
        "    def CreateChildren(self):\n",
        "        pass\n",
        "\n",
        "class State_String(State):\n",
        "    def __init__(self, value, parent, start = 0, goal = 0 ):\n",
        "        super(State_String, self).__init__(value, parent, start, goal)\n",
        "        self.dist = self.GetDistance()\n",
        "\n",
        "    def GetDistance(self):\n",
        "            if self.value == self.goal:\n",
        "                return 0\n",
        "            dist = 0\n",
        "            for i in range(len(self.goal)):\n",
        "                letter = self.goal[i]\n",
        "                dist += abs(i - self.value.index(letter))\n",
        "            return dist\n",
        "\n",
        "    def CreateChildren(self):\n",
        "            if not self.children:\n",
        "                for i in range(len(self.goal)-1):\n",
        "                    val = self.value\n",
        "                    val = val[:i] + val[i+1] + val[i] + val[i+2:]\n",
        "                    child = State_String(val, self)\n",
        "                    self.children.append(child)\n",
        "\n",
        "class a_star:\n",
        "    def __init__(self, start, goal):\n",
        "        self.path = []\n",
        "        self.vistedQueue =[]\n",
        "        self.priorityQueue = PriorityQueue()\n",
        "        self.start = start\n",
        "        self.goal = goal\n",
        "\n",
        "    def Solve(self):\n",
        "        startState = State_String(self.start,0,self.start,self.goal)\n",
        "        count = 0\n",
        "        self.priorityQueue.put((0,count, startState))\n",
        "        while(not self.path and self.priorityQueue.qsize()):\n",
        "               closesetChild = self.priorityQueue.get()[2]\n",
        "               closesetChild.CreateChildren()\n",
        "               self.vistedQueue.append(closesetChild.value)\n",
        "               for child in closesetChild.children:\n",
        "                   if child.value not in self.vistedQueue:\n",
        "                    count += 1\n",
        "                    if not child.dist:\n",
        "                       self.path = child.path\n",
        "                       break\n",
        "                    self.priorityQueue.put((child.dist,count,child))\n",
        "        if not self.path:\n",
        "            print(\"Goal Of  is not possible !\" + self.goal )\n",
        "        return self.path\n",
        "\n",
        "if __name__ == \"__main__\":\n",
        "    start1 = \"hbuis\"\n",
        "    goal1 = \"shibu\"\n",
        "    #print(\"Starting....\")\n",
        "    a = a_star(start1,goal1)\n",
        "    a.Solve()\n",
        "    for i in range(len(a.path)):\n",
        "        print(\"->\",i,a.path[i])\n",
        "\n",
        "print(\"\\n----------\")\n",
        "print('\\033[1m' + '6022 SHIBU')"
      ],
      "execution_count": null,
      "outputs": [
        {
          "output_type": "stream",
          "text": [
            "-> 0 hbuis\n",
            "-> 1 hbius\n",
            "-> 2 hbisu\n",
            "-> 3 hibsu\n",
            "-> 4 hisbu\n",
            "-> 5 hsibu\n",
            "-> 6 shibu\n",
            "\n",
            "----------\n",
            "\u001b[1m6022 SHIBU\n"
          ],
          "name": "stdout"
        }
      ]
    },
    {
      "cell_type": "markdown",
      "metadata": {
        "id": "JTVtNBttwtAn"
      },
      "source": [
        "## `B. Recursive best-first search algorithm`"
      ]
    },
    {
      "cell_type": "markdown",
      "metadata": {
        "id": "_26UD5ZuEITV"
      },
      "source": [
        "### Description:\n",
        "\n",
        "* Recursive Best-First Search or RBFS, is an AI algo that belongs to heuristic search algorithm.\n",
        "\n",
        "* RBFS is similar to a recursive implementation of depth-first search, with the difference that it uses a special condition for backtracking that ensures that nodes are expanded in best-first order. \n",
        "\n",
        "* It works by maintaing on the recursion stack the complete path to the current node being expanded, as well as all immediate siblings of nodes on that path, along with cost of the best node in the subtree explored below each sibling.\n",
        "\n",
        "* Whenever the cost of the current node exceeds that of some other node in the previously expanded portion of the tree, the algorithm backs up to their deepest common ancestor, and continues the search down the new path.\n",
        "\n",
        "**Example can be given using Romanian map:**\n",
        "\n",
        "![](https://drive.google.com/uc?export=view&id=1SNQsAzA2uwWWQ1hwW-6q8ui46hBZWOy_)\n",
        "![](https://drive.google.com/uc?export=view&id=13Ro6qHx8wA8t5m-vX15WYzaqYTdI3CLa)\n",
        "![](https://drive.google.com/uc?export=view&id=1CKLJ8QUyXRl2-LVrlLrEObqvtqf2Ynne)"
      ]
    },
    {
      "cell_type": "code",
      "metadata": {
        "id": "Xb3oVLxA--2v",
        "outputId": "937af32d-1698-41df-adfa-db8384028627",
        "colab": {
          "base_uri": "https://localhost:8080/",
          "height": 35
        }
      },
      "source": [
        "'''def RBFS( Root, Goal,  limit):\n",
        "     if(Root==Goal):\n",
        "          goalSucc=true\n",
        "          return Root.fCost\n",
        "     else:\n",
        "         successors=ExpandNode(Root)\n",
        "         successors.SortNodes()   \n",
        "         if(successors[firstNode].fCost>limit):\n",
        "              return successors[firstNode].fCost\n",
        "         else:\n",
        "              closeList.Insert(Root)\n",
        "              if s in successors:\n",
        "                   if(s!=closeList[item]):\n",
        "                        openList.Insert(s)\n",
        "                        openList.Sort()\n",
        "     bestNode=openList.RemoveFirstNode();\n",
        "     alternativeNode=openList.RemoveFirstNode();\n",
        "\n",
        "     while(goalSucc==false):\n",
        "          bestNode=RBFS(bestNode,Goal,Math.Min(limit, alternativeNode.fCost))\n",
        "          openList.Insert(bestNode)\n",
        "          list.Sort( )\n",
        "          bestNode=openList.RemoveFirstNode()\n",
        "          alternativeNode=openList.RemoveFirstNode()\n",
        "\n",
        "RBFS(2,5,3)'''\n",
        "\n",
        "print(\"Shibu\")"
      ],
      "execution_count": null,
      "outputs": [
        {
          "output_type": "stream",
          "text": [
            "Shibu\n"
          ],
          "name": "stdout"
        }
      ]
    },
    {
      "cell_type": "markdown",
      "metadata": {
        "id": "qpf2PH6ru0gD"
      },
      "source": [
        "---\n",
        "# **Practical 3 -** IRIS Dataset\n",
        "> - Implementation of Neural Network on IRIS dataset\n",
        "---"
      ]
    },
    {
      "cell_type": "markdown",
      "metadata": {
        "id": "oGJgk03oGiNl"
      },
      "source": [
        "### Description:\n",
        "\n",
        "* Iris Data Set, this small dataset often used for testing out ML algo & visualizations (eg: Scatter Plot). \n",
        "\n",
        "* Each row of the table represents an iris flower, including its species and dimensions of its botanical parts, sepal and petal, in centimeters.\n",
        "\n",
        "* The data set contains 3 classes of 50 instances each, where each class refers to a type of iris plant. \n",
        "\n",
        "* One class is linearly separable from the other 2; the latter are NOT linearly separable from each other.\n",
        "\n",
        "1. Class:\n",
        "   > Iris Setosa\n",
        "\n",
        "   > Iris Versicolour\n",
        "\n",
        "   > Iris Virginica\n",
        "\n",
        "![](https://drive.google.com/uc?export=view&id=1NLFhihRkVg09OJbxwsop4i0H8humaAf0)"
      ]
    },
    {
      "cell_type": "markdown",
      "metadata": {
        "id": "K7dUrbhPvJMa"
      },
      "source": [
        "#### `◘ Packages`"
      ]
    },
    {
      "cell_type": "code",
      "metadata": {
        "id": "mDmyzskXvGdD"
      },
      "source": [
        "import numpy as np\n",
        "import pandas as pd"
      ],
      "execution_count": null,
      "outputs": []
    },
    {
      "cell_type": "markdown",
      "metadata": {
        "id": "rZz_WGSiaEjV"
      },
      "source": [
        "#### `◘ Uploading the dataset`"
      ]
    },
    {
      "cell_type": "code",
      "metadata": {
        "id": "aclPHLcMvfvD"
      },
      "source": [
        "df=pd.read_csv(\"/content/drive/My Drive/Colab Notebooks/iris.csv\")"
      ],
      "execution_count": null,
      "outputs": []
    },
    {
      "cell_type": "code",
      "metadata": {
        "id": "hnTz5l-svlCr",
        "outputId": "e6cd1b42-2029-4e86-eb95-1253a24cbf15",
        "colab": {
          "base_uri": "https://localhost:8080/",
          "height": 202
        }
      },
      "source": [
        "df.head()"
      ],
      "execution_count": null,
      "outputs": [
        {
          "output_type": "execute_result",
          "data": {
            "text/html": [
              "<div>\n",
              "<style scoped>\n",
              "    .dataframe tbody tr th:only-of-type {\n",
              "        vertical-align: middle;\n",
              "    }\n",
              "\n",
              "    .dataframe tbody tr th {\n",
              "        vertical-align: top;\n",
              "    }\n",
              "\n",
              "    .dataframe thead th {\n",
              "        text-align: right;\n",
              "    }\n",
              "</style>\n",
              "<table border=\"1\" class=\"dataframe\">\n",
              "  <thead>\n",
              "    <tr style=\"text-align: right;\">\n",
              "      <th></th>\n",
              "      <th>sepal_length</th>\n",
              "      <th>sepal_width</th>\n",
              "      <th>petal_length</th>\n",
              "      <th>petal_width</th>\n",
              "      <th>species</th>\n",
              "    </tr>\n",
              "  </thead>\n",
              "  <tbody>\n",
              "    <tr>\n",
              "      <th>0</th>\n",
              "      <td>5.1</td>\n",
              "      <td>3.5</td>\n",
              "      <td>1.4</td>\n",
              "      <td>0.2</td>\n",
              "      <td>setosa</td>\n",
              "    </tr>\n",
              "    <tr>\n",
              "      <th>1</th>\n",
              "      <td>4.9</td>\n",
              "      <td>3.0</td>\n",
              "      <td>1.4</td>\n",
              "      <td>0.2</td>\n",
              "      <td>setosa</td>\n",
              "    </tr>\n",
              "    <tr>\n",
              "      <th>2</th>\n",
              "      <td>4.7</td>\n",
              "      <td>3.2</td>\n",
              "      <td>1.3</td>\n",
              "      <td>0.2</td>\n",
              "      <td>setosa</td>\n",
              "    </tr>\n",
              "    <tr>\n",
              "      <th>3</th>\n",
              "      <td>4.6</td>\n",
              "      <td>3.1</td>\n",
              "      <td>1.5</td>\n",
              "      <td>0.2</td>\n",
              "      <td>setosa</td>\n",
              "    </tr>\n",
              "    <tr>\n",
              "      <th>4</th>\n",
              "      <td>5.0</td>\n",
              "      <td>3.6</td>\n",
              "      <td>1.4</td>\n",
              "      <td>0.2</td>\n",
              "      <td>setosa</td>\n",
              "    </tr>\n",
              "  </tbody>\n",
              "</table>\n",
              "</div>"
            ],
            "text/plain": [
              "   sepal_length  sepal_width  petal_length  petal_width species\n",
              "0           5.1          3.5           1.4          0.2  setosa\n",
              "1           4.9          3.0           1.4          0.2  setosa\n",
              "2           4.7          3.2           1.3          0.2  setosa\n",
              "3           4.6          3.1           1.5          0.2  setosa\n",
              "4           5.0          3.6           1.4          0.2  setosa"
            ]
          },
          "metadata": {
            "tags": []
          },
          "execution_count": 59
        }
      ]
    },
    {
      "cell_type": "markdown",
      "metadata": {
        "id": "uEB0wGCYaEjc"
      },
      "source": [
        "#### `◘ Finding the missing values`"
      ]
    },
    {
      "cell_type": "code",
      "metadata": {
        "scrolled": true,
        "id": "5h__-dojaEjd",
        "outputId": "a009e17d-566d-4b9c-8dec-410638fbd5d3",
        "colab": {
          "base_uri": "https://localhost:8080/",
          "height": 121
        }
      },
      "source": [
        "df.isnull().sum()"
      ],
      "execution_count": null,
      "outputs": [
        {
          "output_type": "execute_result",
          "data": {
            "text/plain": [
              "sepal_length    0\n",
              "sepal_width     0\n",
              "petal_length    0\n",
              "petal_width     0\n",
              "species         0\n",
              "dtype: int64"
            ]
          },
          "metadata": {
            "tags": []
          },
          "execution_count": 60
        }
      ]
    },
    {
      "cell_type": "code",
      "metadata": {
        "id": "8cv6t0EIaEjg",
        "outputId": "85b3e601-a64d-4915-f029-e92267942640",
        "colab": {
          "base_uri": "https://localhost:8080/",
          "height": 35
        }
      },
      "source": [
        "df[\"species\"].unique()"
      ],
      "execution_count": null,
      "outputs": [
        {
          "output_type": "execute_result",
          "data": {
            "text/plain": [
              "array(['setosa', 'versicolor', 'virginica'], dtype=object)"
            ]
          },
          "metadata": {
            "tags": []
          },
          "execution_count": 61
        }
      ]
    },
    {
      "cell_type": "code",
      "metadata": {
        "id": "NMQuImX7aEji",
        "outputId": "27510b81-c508-4032-c70e-d2f12366acfe",
        "colab": {
          "base_uri": "https://localhost:8080/",
          "height": 53
        }
      },
      "source": [
        "\n",
        "'''df.species[df.species==\"setosa\"]=0\n",
        "df.species[df.species==\"versicolor\"]=1\n",
        "df.species[df.species==\"virginica\"]=2'''"
      ],
      "execution_count": null,
      "outputs": [
        {
          "output_type": "execute_result",
          "data": {
            "application/vnd.google.colaboratory.intrinsic+json": {
              "type": "string"
            },
            "text/plain": [
              "'df.species[df.species==\"setosa\"]=0\\ndf.species[df.species==\"versicolor\"]=1\\ndf.species[df.species==\"virginica\"]=2'"
            ]
          },
          "metadata": {
            "tags": []
          },
          "execution_count": 62
        }
      ]
    },
    {
      "cell_type": "code",
      "metadata": {
        "id": "5-WnRsYhv6N4",
        "outputId": "5f60c30e-2111-4234-f3b1-d0768b71fa84",
        "colab": {
          "base_uri": "https://localhost:8080/",
          "height": 415
        }
      },
      "source": [
        "df"
      ],
      "execution_count": null,
      "outputs": [
        {
          "output_type": "execute_result",
          "data": {
            "text/html": [
              "<div>\n",
              "<style scoped>\n",
              "    .dataframe tbody tr th:only-of-type {\n",
              "        vertical-align: middle;\n",
              "    }\n",
              "\n",
              "    .dataframe tbody tr th {\n",
              "        vertical-align: top;\n",
              "    }\n",
              "\n",
              "    .dataframe thead th {\n",
              "        text-align: right;\n",
              "    }\n",
              "</style>\n",
              "<table border=\"1\" class=\"dataframe\">\n",
              "  <thead>\n",
              "    <tr style=\"text-align: right;\">\n",
              "      <th></th>\n",
              "      <th>sepal_length</th>\n",
              "      <th>sepal_width</th>\n",
              "      <th>petal_length</th>\n",
              "      <th>petal_width</th>\n",
              "      <th>species</th>\n",
              "    </tr>\n",
              "  </thead>\n",
              "  <tbody>\n",
              "    <tr>\n",
              "      <th>0</th>\n",
              "      <td>5.1</td>\n",
              "      <td>3.5</td>\n",
              "      <td>1.4</td>\n",
              "      <td>0.2</td>\n",
              "      <td>setosa</td>\n",
              "    </tr>\n",
              "    <tr>\n",
              "      <th>1</th>\n",
              "      <td>4.9</td>\n",
              "      <td>3.0</td>\n",
              "      <td>1.4</td>\n",
              "      <td>0.2</td>\n",
              "      <td>setosa</td>\n",
              "    </tr>\n",
              "    <tr>\n",
              "      <th>2</th>\n",
              "      <td>4.7</td>\n",
              "      <td>3.2</td>\n",
              "      <td>1.3</td>\n",
              "      <td>0.2</td>\n",
              "      <td>setosa</td>\n",
              "    </tr>\n",
              "    <tr>\n",
              "      <th>3</th>\n",
              "      <td>4.6</td>\n",
              "      <td>3.1</td>\n",
              "      <td>1.5</td>\n",
              "      <td>0.2</td>\n",
              "      <td>setosa</td>\n",
              "    </tr>\n",
              "    <tr>\n",
              "      <th>4</th>\n",
              "      <td>5.0</td>\n",
              "      <td>3.6</td>\n",
              "      <td>1.4</td>\n",
              "      <td>0.2</td>\n",
              "      <td>setosa</td>\n",
              "    </tr>\n",
              "    <tr>\n",
              "      <th>...</th>\n",
              "      <td>...</td>\n",
              "      <td>...</td>\n",
              "      <td>...</td>\n",
              "      <td>...</td>\n",
              "      <td>...</td>\n",
              "    </tr>\n",
              "    <tr>\n",
              "      <th>145</th>\n",
              "      <td>6.7</td>\n",
              "      <td>3.0</td>\n",
              "      <td>5.2</td>\n",
              "      <td>2.3</td>\n",
              "      <td>virginica</td>\n",
              "    </tr>\n",
              "    <tr>\n",
              "      <th>146</th>\n",
              "      <td>6.3</td>\n",
              "      <td>2.5</td>\n",
              "      <td>5.0</td>\n",
              "      <td>1.9</td>\n",
              "      <td>virginica</td>\n",
              "    </tr>\n",
              "    <tr>\n",
              "      <th>147</th>\n",
              "      <td>6.5</td>\n",
              "      <td>3.0</td>\n",
              "      <td>5.2</td>\n",
              "      <td>2.0</td>\n",
              "      <td>virginica</td>\n",
              "    </tr>\n",
              "    <tr>\n",
              "      <th>148</th>\n",
              "      <td>6.2</td>\n",
              "      <td>3.4</td>\n",
              "      <td>5.4</td>\n",
              "      <td>2.3</td>\n",
              "      <td>virginica</td>\n",
              "    </tr>\n",
              "    <tr>\n",
              "      <th>149</th>\n",
              "      <td>5.9</td>\n",
              "      <td>3.0</td>\n",
              "      <td>5.1</td>\n",
              "      <td>1.8</td>\n",
              "      <td>virginica</td>\n",
              "    </tr>\n",
              "  </tbody>\n",
              "</table>\n",
              "<p>150 rows × 5 columns</p>\n",
              "</div>"
            ],
            "text/plain": [
              "     sepal_length  sepal_width  petal_length  petal_width    species\n",
              "0             5.1          3.5           1.4          0.2     setosa\n",
              "1             4.9          3.0           1.4          0.2     setosa\n",
              "2             4.7          3.2           1.3          0.2     setosa\n",
              "3             4.6          3.1           1.5          0.2     setosa\n",
              "4             5.0          3.6           1.4          0.2     setosa\n",
              "..            ...          ...           ...          ...        ...\n",
              "145           6.7          3.0           5.2          2.3  virginica\n",
              "146           6.3          2.5           5.0          1.9  virginica\n",
              "147           6.5          3.0           5.2          2.0  virginica\n",
              "148           6.2          3.4           5.4          2.3  virginica\n",
              "149           5.9          3.0           5.1          1.8  virginica\n",
              "\n",
              "[150 rows x 5 columns]"
            ]
          },
          "metadata": {
            "tags": []
          },
          "execution_count": 63
        }
      ]
    },
    {
      "cell_type": "code",
      "metadata": {
        "id": "Dzlkaiu6aEjo"
      },
      "source": [
        "df=pd.get_dummies(df,columns=[\"species\"])"
      ],
      "execution_count": null,
      "outputs": []
    },
    {
      "cell_type": "code",
      "metadata": {
        "id": "dIf8EBB4wAg5",
        "outputId": "3f8f9fd4-8865-455d-f19e-e46bcace6cd9",
        "colab": {
          "base_uri": "https://localhost:8080/",
          "height": 202
        }
      },
      "source": [
        "df.head()\n"
      ],
      "execution_count": null,
      "outputs": [
        {
          "output_type": "execute_result",
          "data": {
            "text/html": [
              "<div>\n",
              "<style scoped>\n",
              "    .dataframe tbody tr th:only-of-type {\n",
              "        vertical-align: middle;\n",
              "    }\n",
              "\n",
              "    .dataframe tbody tr th {\n",
              "        vertical-align: top;\n",
              "    }\n",
              "\n",
              "    .dataframe thead th {\n",
              "        text-align: right;\n",
              "    }\n",
              "</style>\n",
              "<table border=\"1\" class=\"dataframe\">\n",
              "  <thead>\n",
              "    <tr style=\"text-align: right;\">\n",
              "      <th></th>\n",
              "      <th>sepal_length</th>\n",
              "      <th>sepal_width</th>\n",
              "      <th>petal_length</th>\n",
              "      <th>petal_width</th>\n",
              "      <th>species_setosa</th>\n",
              "      <th>species_versicolor</th>\n",
              "      <th>species_virginica</th>\n",
              "    </tr>\n",
              "  </thead>\n",
              "  <tbody>\n",
              "    <tr>\n",
              "      <th>0</th>\n",
              "      <td>5.1</td>\n",
              "      <td>3.5</td>\n",
              "      <td>1.4</td>\n",
              "      <td>0.2</td>\n",
              "      <td>1</td>\n",
              "      <td>0</td>\n",
              "      <td>0</td>\n",
              "    </tr>\n",
              "    <tr>\n",
              "      <th>1</th>\n",
              "      <td>4.9</td>\n",
              "      <td>3.0</td>\n",
              "      <td>1.4</td>\n",
              "      <td>0.2</td>\n",
              "      <td>1</td>\n",
              "      <td>0</td>\n",
              "      <td>0</td>\n",
              "    </tr>\n",
              "    <tr>\n",
              "      <th>2</th>\n",
              "      <td>4.7</td>\n",
              "      <td>3.2</td>\n",
              "      <td>1.3</td>\n",
              "      <td>0.2</td>\n",
              "      <td>1</td>\n",
              "      <td>0</td>\n",
              "      <td>0</td>\n",
              "    </tr>\n",
              "    <tr>\n",
              "      <th>3</th>\n",
              "      <td>4.6</td>\n",
              "      <td>3.1</td>\n",
              "      <td>1.5</td>\n",
              "      <td>0.2</td>\n",
              "      <td>1</td>\n",
              "      <td>0</td>\n",
              "      <td>0</td>\n",
              "    </tr>\n",
              "    <tr>\n",
              "      <th>4</th>\n",
              "      <td>5.0</td>\n",
              "      <td>3.6</td>\n",
              "      <td>1.4</td>\n",
              "      <td>0.2</td>\n",
              "      <td>1</td>\n",
              "      <td>0</td>\n",
              "      <td>0</td>\n",
              "    </tr>\n",
              "  </tbody>\n",
              "</table>\n",
              "</div>"
            ],
            "text/plain": [
              "   sepal_length  sepal_width  ...  species_versicolor  species_virginica\n",
              "0           5.1          3.5  ...                   0                  0\n",
              "1           4.9          3.0  ...                   0                  0\n",
              "2           4.7          3.2  ...                   0                  0\n",
              "3           4.6          3.1  ...                   0                  0\n",
              "4           5.0          3.6  ...                   0                  0\n",
              "\n",
              "[5 rows x 7 columns]"
            ]
          },
          "metadata": {
            "tags": []
          },
          "execution_count": 65
        }
      ]
    },
    {
      "cell_type": "code",
      "metadata": {
        "id": "UjRJo7dLwCfr",
        "outputId": "0b36d30e-9a3b-480c-c807-4e2d0311b5c9",
        "colab": {
          "base_uri": "https://localhost:8080/",
          "height": 35
        }
      },
      "source": [
        "df.shape"
      ],
      "execution_count": null,
      "outputs": [
        {
          "output_type": "execute_result",
          "data": {
            "text/plain": [
              "(150, 7)"
            ]
          },
          "metadata": {
            "tags": []
          },
          "execution_count": 66
        }
      ]
    },
    {
      "cell_type": "code",
      "metadata": {
        "id": "1FGX_G_BaEjv"
      },
      "source": [
        "attri=df.drop([\"species_setosa\",\"species_versicolor\",\"species_virginica\"],axis=1)\n",
        "clas=df.drop([\"sepal_length\",\"sepal_width\",\"petal_length\",\"petal_width\"],axis=1)"
      ],
      "execution_count": null,
      "outputs": []
    },
    {
      "cell_type": "code",
      "metadata": {
        "id": "T78PbJ4SaEjy"
      },
      "source": [
        "from sklearn import preprocessing"
      ],
      "execution_count": null,
      "outputs": []
    },
    {
      "cell_type": "code",
      "metadata": {
        "id": "l8PH-AisaEj1"
      },
      "source": [
        "normalized_attri = preprocessing.normalize(attri)"
      ],
      "execution_count": null,
      "outputs": []
    },
    {
      "cell_type": "code",
      "metadata": {
        "id": "SCEx273VaEj3"
      },
      "source": [
        "from sklearn.model_selection import train_test_split"
      ],
      "execution_count": null,
      "outputs": []
    },
    {
      "cell_type": "code",
      "metadata": {
        "id": "CH3ua3XvaEj5"
      },
      "source": [
        "attri_train,attri_val,clas_train,clas_val=train_test_split(normalized_attri,clas,test_size=0.15,random_state=42)\n",
        "attri_train,attri_test,clas_train,clas_test=train_test_split(attri_train,clas_train,test_size=0.15,random_state=42)"
      ],
      "execution_count": null,
      "outputs": []
    },
    {
      "cell_type": "code",
      "metadata": {
        "id": "pc4510RHaEj8"
      },
      "source": [
        "from keras.models import Sequential \n",
        "from keras.layers import Dense,Activation,Dropout \n",
        "#from keras.layers.normalization import BatchNormalization \n",
        "#from keras.utils import np_utils"
      ],
      "execution_count": null,
      "outputs": []
    },
    {
      "cell_type": "markdown",
      "metadata": {
        "id": "kh6DJ0pIwUjt"
      },
      "source": [
        "#### `◘ Applying multi-layer neural netwrok model`"
      ]
    },
    {
      "cell_type": "code",
      "metadata": {
        "id": "3zEj58HXaEj-"
      },
      "source": [
        "def Neural_Network():\n",
        "    model=Sequential()\n",
        "    #input layer\n",
        "    model.add(Dense(8,input_dim=4))\n",
        "    model.add(Activation('relu'))\n",
        "    \n",
        "    #1st hidden layer\n",
        "    model.add(Dense(16))\n",
        "    model.add(Activation('relu'))\n",
        "    \n",
        "    #2nd hidden layer\n",
        "    model.add(Dense(32))\n",
        "    model.add(Activation('relu'))\n",
        "    \n",
        "    #Output layer\n",
        "    #model.add(Dropout(0.5))\n",
        "    model.add(Dense(3))\n",
        "    model.add(Activation('sigmoid'))\n",
        "    return model\n"
      ],
      "execution_count": null,
      "outputs": []
    },
    {
      "cell_type": "code",
      "metadata": {
        "id": "_slHkM-bweBc"
      },
      "source": [
        "model=Neural_Network()"
      ],
      "execution_count": null,
      "outputs": []
    },
    {
      "cell_type": "code",
      "metadata": {
        "id": "uGfyaJ20aEkG"
      },
      "source": [
        "model.compile(loss='categorical_crossentropy',optimizer=\"adam\",metrics=['accuracy'])"
      ],
      "execution_count": null,
      "outputs": []
    },
    {
      "cell_type": "code",
      "metadata": {
        "id": "g-t0Bf4mwjkd",
        "outputId": "852357f8-eae8-4323-92b9-43ca1defebc1",
        "colab": {
          "base_uri": "https://localhost:8080/",
          "height": 433
        }
      },
      "source": [
        "model.summary()"
      ],
      "execution_count": null,
      "outputs": [
        {
          "output_type": "stream",
          "text": [
            "Model: \"sequential_4\"\n",
            "_________________________________________________________________\n",
            "Layer (type)                 Output Shape              Param #   \n",
            "=================================================================\n",
            "dense_8 (Dense)              (None, 8)                 40        \n",
            "_________________________________________________________________\n",
            "activation (Activation)      (None, 8)                 0         \n",
            "_________________________________________________________________\n",
            "dense_9 (Dense)              (None, 16)                144       \n",
            "_________________________________________________________________\n",
            "activation_1 (Activation)    (None, 16)                0         \n",
            "_________________________________________________________________\n",
            "dense_10 (Dense)             (None, 32)                544       \n",
            "_________________________________________________________________\n",
            "activation_2 (Activation)    (None, 32)                0         \n",
            "_________________________________________________________________\n",
            "dense_11 (Dense)             (None, 3)                 99        \n",
            "_________________________________________________________________\n",
            "activation_3 (Activation)    (None, 3)                 0         \n",
            "=================================================================\n",
            "Total params: 827\n",
            "Trainable params: 827\n",
            "Non-trainable params: 0\n",
            "_________________________________________________________________\n"
          ],
          "name": "stdout"
        }
      ]
    },
    {
      "cell_type": "code",
      "metadata": {
        "id": "knMR27BIwmwq"
      },
      "source": [
        "from keras import optimizers"
      ],
      "execution_count": null,
      "outputs": []
    },
    {
      "cell_type": "code",
      "metadata": {
        "id": "8lrGuGQlaEkN"
      },
      "source": [
        "#opt = optimizers.Adam(lr=0.0001, beta_1=0.9, beta_2=0.999, decay=0.0001/100, amsgrad=False, clipnorm = 1.)"
      ],
      "execution_count": null,
      "outputs": []
    },
    {
      "cell_type": "code",
      "metadata": {
        "scrolled": false,
        "id": "OlkvyVLRaEkP",
        "outputId": "bdf21b4b-5bff-46ec-9a7a-f7cfcf4f8793",
        "colab": {
          "base_uri": "https://localhost:8080/",
          "height": 1000
        }
      },
      "source": [
        "model.fit(attri_train,clas_train,validation_data=(attri_val,clas_val),batch_size=32,epochs=100)"
      ],
      "execution_count": null,
      "outputs": [
        {
          "output_type": "stream",
          "text": [
            "Epoch 1/100\n",
            "4/4 [==============================] - 0s 35ms/step - loss: 1.1050 - accuracy: 0.3458 - val_loss: 1.1082 - val_accuracy: 0.2609\n",
            "Epoch 2/100\n",
            "4/4 [==============================] - 0s 6ms/step - loss: 1.1027 - accuracy: 0.3458 - val_loss: 1.1057 - val_accuracy: 0.2609\n",
            "Epoch 3/100\n",
            "4/4 [==============================] - 0s 6ms/step - loss: 1.1002 - accuracy: 0.3458 - val_loss: 1.1047 - val_accuracy: 0.2609\n",
            "Epoch 4/100\n",
            "4/4 [==============================] - 0s 6ms/step - loss: 1.0997 - accuracy: 0.3458 - val_loss: 1.1040 - val_accuracy: 0.2609\n",
            "Epoch 5/100\n",
            "4/4 [==============================] - 0s 5ms/step - loss: 1.0983 - accuracy: 0.3458 - val_loss: 1.1033 - val_accuracy: 0.2609\n",
            "Epoch 6/100\n",
            "4/4 [==============================] - 0s 6ms/step - loss: 1.0974 - accuracy: 0.3458 - val_loss: 1.1021 - val_accuracy: 0.2609\n",
            "Epoch 7/100\n",
            "4/4 [==============================] - 0s 6ms/step - loss: 1.0965 - accuracy: 0.3458 - val_loss: 1.1005 - val_accuracy: 0.2609\n",
            "Epoch 8/100\n",
            "4/4 [==============================] - 0s 6ms/step - loss: 1.0952 - accuracy: 0.3458 - val_loss: 1.0983 - val_accuracy: 0.2609\n",
            "Epoch 9/100\n",
            "4/4 [==============================] - 0s 5ms/step - loss: 1.0936 - accuracy: 0.3458 - val_loss: 1.0968 - val_accuracy: 0.2609\n",
            "Epoch 10/100\n",
            "4/4 [==============================] - 0s 6ms/step - loss: 1.0924 - accuracy: 0.3458 - val_loss: 1.0954 - val_accuracy: 0.2609\n",
            "Epoch 11/100\n",
            "4/4 [==============================] - 0s 7ms/step - loss: 1.0906 - accuracy: 0.3458 - val_loss: 1.0934 - val_accuracy: 0.2609\n",
            "Epoch 12/100\n",
            "4/4 [==============================] - 0s 6ms/step - loss: 1.0890 - accuracy: 0.3458 - val_loss: 1.0922 - val_accuracy: 0.2609\n",
            "Epoch 13/100\n",
            "4/4 [==============================] - 0s 5ms/step - loss: 1.0876 - accuracy: 0.3458 - val_loss: 1.0909 - val_accuracy: 0.2609\n",
            "Epoch 14/100\n",
            "4/4 [==============================] - 0s 6ms/step - loss: 1.0861 - accuracy: 0.3458 - val_loss: 1.0885 - val_accuracy: 0.2609\n",
            "Epoch 15/100\n",
            "4/4 [==============================] - 0s 6ms/step - loss: 1.0839 - accuracy: 0.3458 - val_loss: 1.0864 - val_accuracy: 0.2609\n",
            "Epoch 16/100\n",
            "4/4 [==============================] - 0s 6ms/step - loss: 1.0813 - accuracy: 0.3458 - val_loss: 1.0836 - val_accuracy: 0.2609\n",
            "Epoch 17/100\n",
            "4/4 [==============================] - 0s 6ms/step - loss: 1.0784 - accuracy: 0.3458 - val_loss: 1.0807 - val_accuracy: 0.2609\n",
            "Epoch 18/100\n",
            "4/4 [==============================] - 0s 7ms/step - loss: 1.0750 - accuracy: 0.3458 - val_loss: 1.0768 - val_accuracy: 0.2609\n",
            "Epoch 19/100\n",
            "4/4 [==============================] - 0s 5ms/step - loss: 1.0708 - accuracy: 0.3458 - val_loss: 1.0718 - val_accuracy: 0.2609\n",
            "Epoch 20/100\n",
            "4/4 [==============================] - 0s 6ms/step - loss: 1.0661 - accuracy: 0.3458 - val_loss: 1.0666 - val_accuracy: 0.2609\n",
            "Epoch 21/100\n",
            "4/4 [==============================] - 0s 6ms/step - loss: 1.0613 - accuracy: 0.4299 - val_loss: 1.0610 - val_accuracy: 0.4348\n",
            "Epoch 22/100\n",
            "4/4 [==============================] - 0s 6ms/step - loss: 1.0557 - accuracy: 0.5701 - val_loss: 1.0541 - val_accuracy: 0.4783\n",
            "Epoch 23/100\n",
            "4/4 [==============================] - 0s 6ms/step - loss: 1.0492 - accuracy: 0.5981 - val_loss: 1.0465 - val_accuracy: 0.5217\n",
            "Epoch 24/100\n",
            "4/4 [==============================] - 0s 6ms/step - loss: 1.0416 - accuracy: 0.6355 - val_loss: 1.0380 - val_accuracy: 0.6087\n",
            "Epoch 25/100\n",
            "4/4 [==============================] - 0s 5ms/step - loss: 1.0326 - accuracy: 0.6822 - val_loss: 1.0276 - val_accuracy: 0.6087\n",
            "Epoch 26/100\n",
            "4/4 [==============================] - 0s 7ms/step - loss: 1.0211 - accuracy: 0.7757 - val_loss: 1.0146 - val_accuracy: 0.6087\n",
            "Epoch 27/100\n",
            "4/4 [==============================] - 0s 6ms/step - loss: 1.0086 - accuracy: 0.7944 - val_loss: 1.0018 - val_accuracy: 0.8261\n",
            "Epoch 28/100\n",
            "4/4 [==============================] - 0s 6ms/step - loss: 0.9953 - accuracy: 0.8692 - val_loss: 0.9883 - val_accuracy: 0.8261\n",
            "Epoch 29/100\n",
            "4/4 [==============================] - 0s 7ms/step - loss: 0.9807 - accuracy: 0.8224 - val_loss: 0.9732 - val_accuracy: 0.7826\n",
            "Epoch 30/100\n",
            "4/4 [==============================] - 0s 6ms/step - loss: 0.9650 - accuracy: 0.8037 - val_loss: 0.9572 - val_accuracy: 0.6957\n",
            "Epoch 31/100\n",
            "4/4 [==============================] - 0s 6ms/step - loss: 0.9484 - accuracy: 0.7850 - val_loss: 0.9410 - val_accuracy: 0.6957\n",
            "Epoch 32/100\n",
            "4/4 [==============================] - 0s 6ms/step - loss: 0.9311 - accuracy: 0.8224 - val_loss: 0.9235 - val_accuracy: 0.7826\n",
            "Epoch 33/100\n",
            "4/4 [==============================] - 0s 6ms/step - loss: 0.9131 - accuracy: 0.8224 - val_loss: 0.9060 - val_accuracy: 0.7391\n",
            "Epoch 34/100\n",
            "4/4 [==============================] - 0s 6ms/step - loss: 0.8949 - accuracy: 0.7757 - val_loss: 0.8878 - val_accuracy: 0.6957\n",
            "Epoch 35/100\n",
            "4/4 [==============================] - 0s 6ms/step - loss: 0.8750 - accuracy: 0.7944 - val_loss: 0.8689 - val_accuracy: 0.7391\n",
            "Epoch 36/100\n",
            "4/4 [==============================] - 0s 6ms/step - loss: 0.8547 - accuracy: 0.7850 - val_loss: 0.8489 - val_accuracy: 0.6522\n",
            "Epoch 37/100\n",
            "4/4 [==============================] - 0s 6ms/step - loss: 0.8344 - accuracy: 0.7103 - val_loss: 0.8292 - val_accuracy: 0.6087\n",
            "Epoch 38/100\n",
            "4/4 [==============================] - 0s 5ms/step - loss: 0.8129 - accuracy: 0.6822 - val_loss: 0.8096 - val_accuracy: 0.6087\n",
            "Epoch 39/100\n",
            "4/4 [==============================] - 0s 5ms/step - loss: 0.7921 - accuracy: 0.6822 - val_loss: 0.7887 - val_accuracy: 0.6087\n",
            "Epoch 40/100\n",
            "4/4 [==============================] - 0s 6ms/step - loss: 0.7703 - accuracy: 0.6822 - val_loss: 0.7656 - val_accuracy: 0.6087\n",
            "Epoch 41/100\n",
            "4/4 [==============================] - 0s 5ms/step - loss: 0.7483 - accuracy: 0.6822 - val_loss: 0.7430 - val_accuracy: 0.6087\n",
            "Epoch 42/100\n",
            "4/4 [==============================] - 0s 6ms/step - loss: 0.7268 - accuracy: 0.6916 - val_loss: 0.7201 - val_accuracy: 0.6087\n",
            "Epoch 43/100\n",
            "4/4 [==============================] - 0s 6ms/step - loss: 0.7052 - accuracy: 0.6916 - val_loss: 0.6981 - val_accuracy: 0.6087\n",
            "Epoch 44/100\n",
            "4/4 [==============================] - 0s 6ms/step - loss: 0.6838 - accuracy: 0.6916 - val_loss: 0.6782 - val_accuracy: 0.6087\n",
            "Epoch 45/100\n",
            "4/4 [==============================] - 0s 6ms/step - loss: 0.6624 - accuracy: 0.6822 - val_loss: 0.6568 - val_accuracy: 0.6087\n",
            "Epoch 46/100\n",
            "4/4 [==============================] - 0s 6ms/step - loss: 0.6426 - accuracy: 0.6822 - val_loss: 0.6364 - val_accuracy: 0.6087\n",
            "Epoch 47/100\n",
            "4/4 [==============================] - 0s 5ms/step - loss: 0.6226 - accuracy: 0.6822 - val_loss: 0.6162 - val_accuracy: 0.6087\n",
            "Epoch 48/100\n",
            "4/4 [==============================] - 0s 5ms/step - loss: 0.6036 - accuracy: 0.6916 - val_loss: 0.5965 - val_accuracy: 0.6957\n",
            "Epoch 49/100\n",
            "4/4 [==============================] - 0s 6ms/step - loss: 0.5853 - accuracy: 0.8131 - val_loss: 0.5770 - val_accuracy: 0.8261\n",
            "Epoch 50/100\n",
            "4/4 [==============================] - 0s 5ms/step - loss: 0.5698 - accuracy: 0.9159 - val_loss: 0.5570 - val_accuracy: 0.9565\n",
            "Epoch 51/100\n",
            "4/4 [==============================] - 0s 6ms/step - loss: 0.5528 - accuracy: 0.9813 - val_loss: 0.5406 - val_accuracy: 0.8696\n",
            "Epoch 52/100\n",
            "4/4 [==============================] - 0s 8ms/step - loss: 0.5383 - accuracy: 0.9346 - val_loss: 0.5241 - val_accuracy: 0.8696\n",
            "Epoch 53/100\n",
            "4/4 [==============================] - 0s 6ms/step - loss: 0.5242 - accuracy: 0.8598 - val_loss: 0.5096 - val_accuracy: 0.8696\n",
            "Epoch 54/100\n",
            "4/4 [==============================] - 0s 6ms/step - loss: 0.5133 - accuracy: 0.6729 - val_loss: 0.4951 - val_accuracy: 0.7391\n",
            "Epoch 55/100\n",
            "4/4 [==============================] - 0s 5ms/step - loss: 0.5022 - accuracy: 0.6542 - val_loss: 0.4834 - val_accuracy: 0.7391\n",
            "Epoch 56/100\n",
            "4/4 [==============================] - 0s 6ms/step - loss: 0.4921 - accuracy: 0.6542 - val_loss: 0.4726 - val_accuracy: 0.7391\n",
            "Epoch 57/100\n",
            "4/4 [==============================] - 0s 6ms/step - loss: 0.4838 - accuracy: 0.6542 - val_loss: 0.4628 - val_accuracy: 0.7391\n",
            "Epoch 58/100\n",
            "4/4 [==============================] - 0s 6ms/step - loss: 0.4745 - accuracy: 0.6636 - val_loss: 0.4573 - val_accuracy: 0.8696\n",
            "Epoch 59/100\n",
            "4/4 [==============================] - 0s 6ms/step - loss: 0.4667 - accuracy: 0.7664 - val_loss: 0.4533 - val_accuracy: 0.8696\n",
            "Epoch 60/100\n",
            "4/4 [==============================] - 0s 5ms/step - loss: 0.4591 - accuracy: 0.8879 - val_loss: 0.4462 - val_accuracy: 0.8696\n",
            "Epoch 61/100\n",
            "4/4 [==============================] - 0s 6ms/step - loss: 0.4525 - accuracy: 0.8785 - val_loss: 0.4381 - val_accuracy: 0.8696\n",
            "Epoch 62/100\n",
            "4/4 [==============================] - 0s 6ms/step - loss: 0.4450 - accuracy: 0.8879 - val_loss: 0.4351 - val_accuracy: 0.8696\n",
            "Epoch 63/100\n",
            "4/4 [==============================] - 0s 6ms/step - loss: 0.4392 - accuracy: 0.9533 - val_loss: 0.4322 - val_accuracy: 0.9565\n",
            "Epoch 64/100\n",
            "4/4 [==============================] - 0s 6ms/step - loss: 0.4319 - accuracy: 0.9720 - val_loss: 0.4225 - val_accuracy: 0.8696\n",
            "Epoch 65/100\n",
            "4/4 [==============================] - 0s 6ms/step - loss: 0.4259 - accuracy: 0.9346 - val_loss: 0.4139 - val_accuracy: 0.8696\n",
            "Epoch 66/100\n",
            "4/4 [==============================] - 0s 6ms/step - loss: 0.4188 - accuracy: 0.9626 - val_loss: 0.4138 - val_accuracy: 0.9565\n",
            "Epoch 67/100\n",
            "4/4 [==============================] - 0s 5ms/step - loss: 0.4101 - accuracy: 0.9813 - val_loss: 0.4005 - val_accuracy: 0.8696\n",
            "Epoch 68/100\n",
            "4/4 [==============================] - 0s 5ms/step - loss: 0.4033 - accuracy: 0.9252 - val_loss: 0.3907 - val_accuracy: 0.8696\n",
            "Epoch 69/100\n",
            "4/4 [==============================] - 0s 6ms/step - loss: 0.3974 - accuracy: 0.9159 - val_loss: 0.3883 - val_accuracy: 0.9130\n",
            "Epoch 70/100\n",
            "4/4 [==============================] - 0s 6ms/step - loss: 0.3870 - accuracy: 0.9626 - val_loss: 0.4013 - val_accuracy: 0.8696\n",
            "Epoch 71/100\n",
            "4/4 [==============================] - 0s 6ms/step - loss: 0.3844 - accuracy: 0.9159 - val_loss: 0.3942 - val_accuracy: 0.9130\n",
            "Epoch 72/100\n",
            "4/4 [==============================] - 0s 6ms/step - loss: 0.3747 - accuracy: 0.9346 - val_loss: 0.3780 - val_accuracy: 0.9565\n",
            "Epoch 73/100\n",
            "4/4 [==============================] - 0s 5ms/step - loss: 0.3638 - accuracy: 0.9720 - val_loss: 0.3656 - val_accuracy: 0.9565\n",
            "Epoch 74/100\n",
            "4/4 [==============================] - 0s 5ms/step - loss: 0.3554 - accuracy: 0.9813 - val_loss: 0.3578 - val_accuracy: 0.9565\n",
            "Epoch 75/100\n",
            "4/4 [==============================] - 0s 5ms/step - loss: 0.3468 - accuracy: 0.9813 - val_loss: 0.3500 - val_accuracy: 0.9565\n",
            "Epoch 76/100\n",
            "4/4 [==============================] - 0s 6ms/step - loss: 0.3378 - accuracy: 0.9813 - val_loss: 0.3430 - val_accuracy: 0.9565\n",
            "Epoch 77/100\n",
            "4/4 [==============================] - 0s 6ms/step - loss: 0.3295 - accuracy: 0.9813 - val_loss: 0.3338 - val_accuracy: 0.9565\n",
            "Epoch 78/100\n",
            "4/4 [==============================] - 0s 5ms/step - loss: 0.3213 - accuracy: 0.9907 - val_loss: 0.3277 - val_accuracy: 0.9565\n",
            "Epoch 79/100\n",
            "4/4 [==============================] - 0s 6ms/step - loss: 0.3125 - accuracy: 0.9626 - val_loss: 0.3341 - val_accuracy: 0.9565\n",
            "Epoch 80/100\n",
            "4/4 [==============================] - 0s 6ms/step - loss: 0.3073 - accuracy: 0.9346 - val_loss: 0.3193 - val_accuracy: 0.9565\n",
            "Epoch 81/100\n",
            "4/4 [==============================] - 0s 6ms/step - loss: 0.3027 - accuracy: 0.9720 - val_loss: 0.2983 - val_accuracy: 0.9130\n",
            "Epoch 82/100\n",
            "4/4 [==============================] - 0s 5ms/step - loss: 0.2951 - accuracy: 0.9720 - val_loss: 0.3050 - val_accuracy: 0.9565\n",
            "Epoch 83/100\n",
            "4/4 [==============================] - 0s 6ms/step - loss: 0.2864 - accuracy: 0.9626 - val_loss: 0.3128 - val_accuracy: 0.9565\n",
            "Epoch 84/100\n",
            "4/4 [==============================] - 0s 6ms/step - loss: 0.2778 - accuracy: 0.9346 - val_loss: 0.2825 - val_accuracy: 0.9565\n",
            "Epoch 85/100\n",
            "4/4 [==============================] - 0s 6ms/step - loss: 0.2725 - accuracy: 0.9720 - val_loss: 0.2771 - val_accuracy: 0.9565\n",
            "Epoch 86/100\n",
            "4/4 [==============================] - 0s 5ms/step - loss: 0.2658 - accuracy: 0.9813 - val_loss: 0.2765 - val_accuracy: 0.9565\n",
            "Epoch 87/100\n",
            "4/4 [==============================] - 0s 6ms/step - loss: 0.2573 - accuracy: 0.9813 - val_loss: 0.2724 - val_accuracy: 0.9565\n",
            "Epoch 88/100\n",
            "4/4 [==============================] - 0s 5ms/step - loss: 0.2512 - accuracy: 0.9813 - val_loss: 0.2707 - val_accuracy: 0.9565\n",
            "Epoch 89/100\n",
            "4/4 [==============================] - 0s 6ms/step - loss: 0.2469 - accuracy: 0.9813 - val_loss: 0.2617 - val_accuracy: 0.9565\n",
            "Epoch 90/100\n",
            "4/4 [==============================] - 0s 5ms/step - loss: 0.2392 - accuracy: 0.9813 - val_loss: 0.2630 - val_accuracy: 0.9565\n",
            "Epoch 91/100\n",
            "4/4 [==============================] - 0s 6ms/step - loss: 0.2346 - accuracy: 0.9813 - val_loss: 0.2570 - val_accuracy: 0.9565\n",
            "Epoch 92/100\n",
            "4/4 [==============================] - 0s 6ms/step - loss: 0.2290 - accuracy: 0.9813 - val_loss: 0.2452 - val_accuracy: 0.9565\n",
            "Epoch 93/100\n",
            "4/4 [==============================] - 0s 6ms/step - loss: 0.2235 - accuracy: 0.9907 - val_loss: 0.2451 - val_accuracy: 0.9565\n",
            "Epoch 94/100\n",
            "4/4 [==============================] - 0s 6ms/step - loss: 0.2210 - accuracy: 0.9813 - val_loss: 0.2525 - val_accuracy: 0.9565\n",
            "Epoch 95/100\n",
            "4/4 [==============================] - 0s 6ms/step - loss: 0.2176 - accuracy: 0.9720 - val_loss: 0.2451 - val_accuracy: 0.9565\n",
            "Epoch 96/100\n",
            "4/4 [==============================] - 0s 6ms/step - loss: 0.2120 - accuracy: 0.9626 - val_loss: 0.2421 - val_accuracy: 0.9565\n",
            "Epoch 97/100\n",
            "4/4 [==============================] - 0s 6ms/step - loss: 0.2037 - accuracy: 0.9813 - val_loss: 0.2226 - val_accuracy: 0.9565\n",
            "Epoch 98/100\n",
            "4/4 [==============================] - 0s 6ms/step - loss: 0.2016 - accuracy: 0.9813 - val_loss: 0.2180 - val_accuracy: 0.9565\n",
            "Epoch 99/100\n",
            "4/4 [==============================] - 0s 5ms/step - loss: 0.1977 - accuracy: 0.9907 - val_loss: 0.2225 - val_accuracy: 0.9565\n",
            "Epoch 100/100\n",
            "4/4 [==============================] - 0s 5ms/step - loss: 0.1926 - accuracy: 0.9813 - val_loss: 0.2230 - val_accuracy: 0.9565\n"
          ],
          "name": "stdout"
        },
        {
          "output_type": "execute_result",
          "data": {
            "text/plain": [
              "<tensorflow.python.keras.callbacks.History at 0x7fa256479e80>"
            ]
          },
          "metadata": {
            "tags": []
          },
          "execution_count": 80
        }
      ]
    },
    {
      "cell_type": "code",
      "metadata": {
        "id": "-WLhC5M7aEkR",
        "outputId": "34b95853-1f49-47de-9546-484ad9c436f6",
        "colab": {
          "base_uri": "https://localhost:8080/",
          "height": 35
        }
      },
      "source": [
        "loss,accuracy=model.evaluate(x=attri_test,y=clas_test,batch_size=32)"
      ],
      "execution_count": null,
      "outputs": [
        {
          "output_type": "stream",
          "text": [
            "1/1 [==============================] - 0s 1ms/step - loss: 0.2100 - accuracy: 0.9500\n"
          ],
          "name": "stdout"
        }
      ]
    },
    {
      "cell_type": "code",
      "metadata": {
        "id": "mHy5aiJzw9eO",
        "outputId": "7e28f96f-1d22-4c91-ca0c-10347aecb7cb",
        "colab": {
          "base_uri": "https://localhost:8080/",
          "height": 35
        }
      },
      "source": [
        "print(accuracy*100)"
      ],
      "execution_count": null,
      "outputs": [
        {
          "output_type": "stream",
          "text": [
            "94.9999988079071\n"
          ],
          "name": "stdout"
        }
      ]
    },
    {
      "cell_type": "code",
      "metadata": {
        "id": "KlA29fWkxARj",
        "outputId": "073b1bd8-a280-4148-f5a7-df760f9dfc6f",
        "colab": {
          "base_uri": "https://localhost:8080/",
          "height": 35
        }
      },
      "source": [
        "loss"
      ],
      "execution_count": null,
      "outputs": [
        {
          "output_type": "execute_result",
          "data": {
            "text/plain": [
              "0.21001720428466797"
            ]
          },
          "metadata": {
            "tags": []
          },
          "execution_count": 83
        }
      ]
    },
    {
      "cell_type": "code",
      "metadata": {
        "id": "qk-agKQ9PRnM",
        "outputId": "44897a9a-7597-442e-daf0-e07d8f568ac0",
        "colab": {
          "base_uri": "https://localhost:8080/"
        }
      },
      "source": [
        "print(\"\\n----------\")\n",
        "print('\\033[1m' + '6022 SHIBU')"
      ],
      "execution_count": null,
      "outputs": [
        {
          "output_type": "stream",
          "text": [
            "\n",
            "----------\n",
            "\u001b[1m6022 SHIBU\n"
          ],
          "name": "stdout"
        }
      ]
    },
    {
      "cell_type": "markdown",
      "metadata": {
        "id": "wwoPb4r2V4BC"
      },
      "source": [
        "---\n",
        "# **Practical 4 -** Diabetes Dataset\n",
        "> - Implementation of basic neural network model with 4 activation functions on Pima Indians onset of diabetes dataset.\n",
        "---"
      ]
    },
    {
      "cell_type": "markdown",
      "metadata": {
        "id": "yc-nvq58IUxY"
      },
      "source": [
        "### Description:\n",
        "\n",
        "* This dataset is originally from the National Institute of Diabetes and Digestive and Kidney Diseases. \n",
        "\n",
        "* The objective of the dataset is to diagnostically predict whether or not a patient has diabetes, based on certain diagnostic measurements included in the dataset. Several constraints were placed on the selection of these instances from a larger database. \n",
        "\n",
        "* In particular, all patients here are females at least 21 years old of Pima Indian heritage.\n",
        "\n",
        "* The datasets consists of several medical predictor variables and one target variable, Outcome. Predictor variables includes the number of pregnancies the patient has had, their BMI, insulin level, age, and so on.\n",
        "\n",
        "*   The steps to use keras are as follows:\n",
        "\n",
        "1.   Load Data.\n",
        "2.   Define Keras Model.\n",
        "3.   Compile Keras Model.\n",
        "4.   Fit Keras Model.\n",
        "5.   Evaluate Keras Model.\n",
        "6.   Tie It All Together.\n",
        "7.   Make Predictions\n"
      ]
    },
    {
      "cell_type": "markdown",
      "metadata": {
        "id": "bhzRm9qbzUbw"
      },
      "source": [
        "#### `◘ Uploading csv file`"
      ]
    },
    {
      "cell_type": "code",
      "metadata": {
        "id": "2STheyL7WNVn",
        "outputId": "0a5995e8-1a70-4205-ecf0-b947cca70824",
        "colab": {
          "resources": {
            "http://localhost:8080/nbextensions/google.colab/files.js": {
              "data": "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",
              "ok": true,
              "headers": [
                [
                  "content-type",
                  "application/javascript"
                ]
              ],
              "status": 200,
              "status_text": ""
            }
          },
          "base_uri": "https://localhost:8080/",
          "height": 111
        }
      },
      "source": [
        "from google.colab import files\n",
        "files.upload()"
      ],
      "execution_count": null,
      "outputs": [
        {
          "output_type": "display_data",
          "data": {
            "text/html": [
              "\n",
              "     <input type=\"file\" id=\"files-c15e6c7c-f494-4a06-8359-c770cc8082d3\" name=\"files[]\" multiple disabled\n",
              "        style=\"border:none\" />\n",
              "     <output id=\"result-c15e6c7c-f494-4a06-8359-c770cc8082d3\">\n",
              "      Upload widget is only available when the cell has been executed in the\n",
              "      current browser session. Please rerun this cell to enable.\n",
              "      </output>\n",
              "      <script src=\"/nbextensions/google.colab/files.js\"></script> "
            ],
            "text/plain": [
              "<IPython.core.display.HTML object>"
            ]
          },
          "metadata": {
            "tags": []
          }
        },
        {
          "output_type": "stream",
          "text": [
            "Saving pima-indians-diabetes.csv to pima-indians-diabetes.csv\n"
          ],
          "name": "stdout"
        },
        {
          "output_type": "execute_result",
          "data": {
            "text/plain": [
              "{'pima-indians-diabetes.csv': b'6,148,72,35,0,33.6,0.627,50,1\\r\\n1,85,66,29,0,26.6,0.351,31,0\\r\\n8,183,64,0,0,23.3,0.672,32,1\\r\\n1,89,66,23,94,28.1,0.167,21,0\\r\\n0,137,40,35,168,43.1,2.288,33,1\\r\\n5,116,74,0,0,25.6,0.201,30,0\\r\\n3,78,50,32,88,31.0,0.248,26,1\\r\\n10,115,0,0,0,35.3,0.134,29,0\\r\\n2,197,70,45,543,30.5,0.158,53,1\\r\\n8,125,96,0,0,0.0,0.232,54,1\\r\\n4,110,92,0,0,37.6,0.191,30,0\\r\\n10,168,74,0,0,38.0,0.537,34,1\\r\\n10,139,80,0,0,27.1,1.441,57,0\\r\\n1,189,60,23,846,30.1,0.398,59,1\\r\\n5,166,72,19,175,25.8,0.587,51,1\\r\\n7,100,0,0,0,30.0,0.484,32,1\\r\\n0,118,84,47,230,45.8,0.551,31,1\\r\\n7,107,74,0,0,29.6,0.254,31,1\\r\\n1,103,30,38,83,43.3,0.183,33,0\\r\\n1,115,70,30,96,34.6,0.529,32,1\\r\\n3,126,88,41,235,39.3,0.704,27,0\\r\\n8,99,84,0,0,35.4,0.388,50,0\\r\\n7,196,90,0,0,39.8,0.451,41,1\\r\\n9,119,80,35,0,29.0,0.263,29,1\\r\\n11,143,94,33,146,36.6,0.254,51,1\\r\\n10,125,70,26,115,31.1,0.205,41,1\\r\\n7,147,76,0,0,39.4,0.257,43,1\\r\\n1,97,66,15,140,23.2,0.487,22,0\\r\\n13,145,82,19,110,22.2,0.245,57,0\\r\\n5,117,92,0,0,34.1,0.337,38,0\\r\\n5,109,75,26,0,36.0,0.546,60,0\\r\\n3,158,76,36,245,31.6,0.851,28,1\\r\\n3,88,58,11,54,24.8,0.267,22,0\\r\\n6,92,92,0,0,19.9,0.188,28,0\\r\\n10,122,78,31,0,27.6,0.512,45,0\\r\\n4,103,60,33,192,24.0,0.966,33,0\\r\\n11,138,76,0,0,33.2,0.420,35,0\\r\\n9,102,76,37,0,32.9,0.665,46,1\\r\\n2,90,68,42,0,38.2,0.503,27,1\\r\\n4,111,72,47,207,37.1,1.390,56,1\\r\\n3,180,64,25,70,34.0,0.271,26,0\\r\\n7,133,84,0,0,40.2,0.696,37,0\\r\\n7,106,92,18,0,22.7,0.235,48,0\\r\\n9,171,110,24,240,45.4,0.721,54,1\\r\\n7,159,64,0,0,27.4,0.294,40,0\\r\\n0,180,66,39,0,42.0,1.893,25,1\\r\\n1,146,56,0,0,29.7,0.564,29,0\\r\\n2,71,70,27,0,28.0,0.586,22,0\\r\\n7,103,66,32,0,39.1,0.344,31,1\\r\\n7,105,0,0,0,0.0,0.305,24,0\\r\\n1,103,80,11,82,19.4,0.491,22,0\\r\\n1,101,50,15,36,24.2,0.526,26,0\\r\\n5,88,66,21,23,24.4,0.342,30,0\\r\\n8,176,90,34,300,33.7,0.467,58,1\\r\\n7,150,66,42,342,34.7,0.718,42,0\\r\\n1,73,50,10,0,23.0,0.248,21,0\\r\\n7,187,68,39,304,37.7,0.254,41,1\\r\\n0,100,88,60,110,46.8,0.962,31,0\\r\\n0,146,82,0,0,40.5,1.781,44,0\\r\\n0,105,64,41,142,41.5,0.173,22,0\\r\\n2,84,0,0,0,0.0,0.304,21,0\\r\\n8,133,72,0,0,32.9,0.270,39,1\\r\\n5,44,62,0,0,25.0,0.587,36,0\\r\\n2,141,58,34,128,25.4,0.699,24,0\\r\\n7,114,66,0,0,32.8,0.258,42,1\\r\\n5,99,74,27,0,29.0,0.203,32,0\\r\\n0,109,88,30,0,32.5,0.855,38,1\\r\\n2,109,92,0,0,42.7,0.845,54,0\\r\\n1,95,66,13,38,19.6,0.334,25,0\\r\\n4,146,85,27,100,28.9,0.189,27,0\\r\\n2,100,66,20,90,32.9,0.867,28,1\\r\\n5,139,64,35,140,28.6,0.411,26,0\\r\\n13,126,90,0,0,43.4,0.583,42,1\\r\\n4,129,86,20,270,35.1,0.231,23,0\\r\\n1,79,75,30,0,32.0,0.396,22,0\\r\\n1,0,48,20,0,24.7,0.140,22,0\\r\\n7,62,78,0,0,32.6,0.391,41,0\\r\\n5,95,72,33,0,37.7,0.370,27,0\\r\\n0,131,0,0,0,43.2,0.270,26,1\\r\\n2,112,66,22,0,25.0,0.307,24,0\\r\\n3,113,44,13,0,22.4,0.140,22,0\\r\\n2,74,0,0,0,0.0,0.102,22,0\\r\\n7,83,78,26,71,29.3,0.767,36,0\\r\\n0,101,65,28,0,24.6,0.237,22,0\\r\\n5,137,108,0,0,48.8,0.227,37,1\\r\\n2,110,74,29,125,32.4,0.698,27,0\\r\\n13,106,72,54,0,36.6,0.178,45,0\\r\\n2,100,68,25,71,38.5,0.324,26,0\\r\\n15,136,70,32,110,37.1,0.153,43,1\\r\\n1,107,68,19,0,26.5,0.165,24,0\\r\\n1,80,55,0,0,19.1,0.258,21,0\\r\\n4,123,80,15,176,32.0,0.443,34,0\\r\\n7,81,78,40,48,46.7,0.261,42,0\\r\\n4,134,72,0,0,23.8,0.277,60,1\\r\\n2,142,82,18,64,24.7,0.761,21,0\\r\\n6,144,72,27,228,33.9,0.255,40,0\\r\\n2,92,62,28,0,31.6,0.130,24,0\\r\\n1,71,48,18,76,20.4,0.323,22,0\\r\\n6,93,50,30,64,28.7,0.356,23,0\\r\\n1,122,90,51,220,49.7,0.325,31,1\\r\\n1,163,72,0,0,39.0,1.222,33,1\\r\\n1,151,60,0,0,26.1,0.179,22,0\\r\\n0,125,96,0,0,22.5,0.262,21,0\\r\\n1,81,72,18,40,26.6,0.283,24,0\\r\\n2,85,65,0,0,39.6,0.930,27,0\\r\\n1,126,56,29,152,28.7,0.801,21,0\\r\\n1,96,122,0,0,22.4,0.207,27,0\\r\\n4,144,58,28,140,29.5,0.287,37,0\\r\\n3,83,58,31,18,34.3,0.336,25,0\\r\\n0,95,85,25,36,37.4,0.247,24,1\\r\\n3,171,72,33,135,33.3,0.199,24,1\\r\\n8,155,62,26,495,34.0,0.543,46,1\\r\\n1,89,76,34,37,31.2,0.192,23,0\\r\\n4,76,62,0,0,34.0,0.391,25,0\\r\\n7,160,54,32,175,30.5,0.588,39,1\\r\\n4,146,92,0,0,31.2,0.539,61,1\\r\\n5,124,74,0,0,34.0,0.220,38,1\\r\\n5,78,48,0,0,33.7,0.654,25,0\\r\\n4,97,60,23,0,28.2,0.443,22,0\\r\\n4,99,76,15,51,23.2,0.223,21,0\\r\\n0,162,76,56,100,53.2,0.759,25,1\\r\\n6,111,64,39,0,34.2,0.260,24,0\\r\\n2,107,74,30,100,33.6,0.404,23,0\\r\\n5,132,80,0,0,26.8,0.186,69,0\\r\\n0,113,76,0,0,33.3,0.278,23,1\\r\\n1,88,30,42,99,55.0,0.496,26,1\\r\\n3,120,70,30,135,42.9,0.452,30,0\\r\\n1,118,58,36,94,33.3,0.261,23,0\\r\\n1,117,88,24,145,34.5,0.403,40,1\\r\\n0,105,84,0,0,27.9,0.741,62,1\\r\\n4,173,70,14,168,29.7,0.361,33,1\\r\\n9,122,56,0,0,33.3,1.114,33,1\\r\\n3,170,64,37,225,34.5,0.356,30,1\\r\\n8,84,74,31,0,38.3,0.457,39,0\\r\\n2,96,68,13,49,21.1,0.647,26,0\\r\\n2,125,60,20,140,33.8,0.088,31,0\\r\\n0,100,70,26,50,30.8,0.597,21,0\\r\\n0,93,60,25,92,28.7,0.532,22,0\\r\\n0,129,80,0,0,31.2,0.703,29,0\\r\\n5,105,72,29,325,36.9,0.159,28,0\\r\\n3,128,78,0,0,21.1,0.268,55,0\\r\\n5,106,82,30,0,39.5,0.286,38,0\\r\\n2,108,52,26,63,32.5,0.318,22,0\\r\\n10,108,66,0,0,32.4,0.272,42,1\\r\\n4,154,62,31,284,32.8,0.237,23,0\\r\\n0,102,75,23,0,0.0,0.572,21,0\\r\\n9,57,80,37,0,32.8,0.096,41,0\\r\\n2,106,64,35,119,30.5,1.400,34,0\\r\\n5,147,78,0,0,33.7,0.218,65,0\\r\\n2,90,70,17,0,27.3,0.085,22,0\\r\\n1,136,74,50,204,37.4,0.399,24,0\\r\\n4,114,65,0,0,21.9,0.432,37,0\\r\\n9,156,86,28,155,34.3,1.189,42,1\\r\\n1,153,82,42,485,40.6,0.687,23,0\\r\\n8,188,78,0,0,47.9,0.137,43,1\\r\\n7,152,88,44,0,50.0,0.337,36,1\\r\\n2,99,52,15,94,24.6,0.637,21,0\\r\\n1,109,56,21,135,25.2,0.833,23,0\\r\\n2,88,74,19,53,29.0,0.229,22,0\\r\\n17,163,72,41,114,40.9,0.817,47,1\\r\\n4,151,90,38,0,29.7,0.294,36,0\\r\\n7,102,74,40,105,37.2,0.204,45,0\\r\\n0,114,80,34,285,44.2,0.167,27,0\\r\\n2,100,64,23,0,29.7,0.368,21,0\\r\\n0,131,88,0,0,31.6,0.743,32,1\\r\\n6,104,74,18,156,29.9,0.722,41,1\\r\\n3,148,66,25,0,32.5,0.256,22,0\\r\\n4,120,68,0,0,29.6,0.709,34,0\\r\\n4,110,66,0,0,31.9,0.471,29,0\\r\\n3,111,90,12,78,28.4,0.495,29,0\\r\\n6,102,82,0,0,30.8,0.180,36,1\\r\\n6,134,70,23,130,35.4,0.542,29,1\\r\\n2,87,0,23,0,28.9,0.773,25,0\\r\\n1,79,60,42,48,43.5,0.678,23,0\\r\\n2,75,64,24,55,29.7,0.370,33,0\\r\\n8,179,72,42,130,32.7,0.719,36,1\\r\\n6,85,78,0,0,31.2,0.382,42,0\\r\\n0,129,110,46,130,67.1,0.319,26,1\\r\\n5,143,78,0,0,45.0,0.190,47,0\\r\\n5,130,82,0,0,39.1,0.956,37,1\\r\\n6,87,80,0,0,23.2,0.084,32,0\\r\\n0,119,64,18,92,34.9,0.725,23,0\\r\\n1,0,74,20,23,27.7,0.299,21,0\\r\\n5,73,60,0,0,26.8,0.268,27,0\\r\\n4,141,74,0,0,27.6,0.244,40,0\\r\\n7,194,68,28,0,35.9,0.745,41,1\\r\\n8,181,68,36,495,30.1,0.615,60,1\\r\\n1,128,98,41,58,32.0,1.321,33,1\\r\\n8,109,76,39,114,27.9,0.640,31,1\\r\\n5,139,80,35,160,31.6,0.361,25,1\\r\\n3,111,62,0,0,22.6,0.142,21,0\\r\\n9,123,70,44,94,33.1,0.374,40,0\\r\\n7,159,66,0,0,30.4,0.383,36,1\\r\\n11,135,0,0,0,52.3,0.578,40,1\\r\\n8,85,55,20,0,24.4,0.136,42,0\\r\\n5,158,84,41,210,39.4,0.395,29,1\\r\\n1,105,58,0,0,24.3,0.187,21,0\\r\\n3,107,62,13,48,22.9,0.678,23,1\\r\\n4,109,64,44,99,34.8,0.905,26,1\\r\\n4,148,60,27,318,30.9,0.150,29,1\\r\\n0,113,80,16,0,31.0,0.874,21,0\\r\\n1,138,82,0,0,40.1,0.236,28,0\\r\\n0,108,68,20,0,27.3,0.787,32,0\\r\\n2,99,70,16,44,20.4,0.235,27,0\\r\\n6,103,72,32,190,37.7,0.324,55,0\\r\\n5,111,72,28,0,23.9,0.407,27,0\\r\\n8,196,76,29,280,37.5,0.605,57,1\\r\\n5,162,104,0,0,37.7,0.151,52,1\\r\\n1,96,64,27,87,33.2,0.289,21,0\\r\\n7,184,84,33,0,35.5,0.355,41,1\\r\\n2,81,60,22,0,27.7,0.290,25,0\\r\\n0,147,85,54,0,42.8,0.375,24,0\\r\\n7,179,95,31,0,34.2,0.164,60,0\\r\\n0,140,65,26,130,42.6,0.431,24,1\\r\\n9,112,82,32,175,34.2,0.260,36,1\\r\\n12,151,70,40,271,41.8,0.742,38,1\\r\\n5,109,62,41,129,35.8,0.514,25,1\\r\\n6,125,68,30,120,30.0,0.464,32,0\\r\\n5,85,74,22,0,29.0,1.224,32,1\\r\\n5,112,66,0,0,37.8,0.261,41,1\\r\\n0,177,60,29,478,34.6,1.072,21,1\\r\\n2,158,90,0,0,31.6,0.805,66,1\\r\\n7,119,0,0,0,25.2,0.209,37,0\\r\\n7,142,60,33,190,28.8,0.687,61,0\\r\\n1,100,66,15,56,23.6,0.666,26,0\\r\\n1,87,78,27,32,34.6,0.101,22,0\\r\\n0,101,76,0,0,35.7,0.198,26,0\\r\\n3,162,52,38,0,37.2,0.652,24,1\\r\\n4,197,70,39,744,36.7,2.329,31,0\\r\\n0,117,80,31,53,45.2,0.089,24,0\\r\\n4,142,86,0,0,44.0,0.645,22,1\\r\\n6,134,80,37,370,46.2,0.238,46,1\\r\\n1,79,80,25,37,25.4,0.583,22,0\\r\\n4,122,68,0,0,35.0,0.394,29,0\\r\\n3,74,68,28,45,29.7,0.293,23,0\\r\\n4,171,72,0,0,43.6,0.479,26,1\\r\\n7,181,84,21,192,35.9,0.586,51,1\\r\\n0,179,90,27,0,44.1,0.686,23,1\\r\\n9,164,84,21,0,30.8,0.831,32,1\\r\\n0,104,76,0,0,18.4,0.582,27,0\\r\\n1,91,64,24,0,29.2,0.192,21,0\\r\\n4,91,70,32,88,33.1,0.446,22,0\\r\\n3,139,54,0,0,25.6,0.402,22,1\\r\\n6,119,50,22,176,27.1,1.318,33,1\\r\\n2,146,76,35,194,38.2,0.329,29,0\\r\\n9,184,85,15,0,30.0,1.213,49,1\\r\\n10,122,68,0,0,31.2,0.258,41,0\\r\\n0,165,90,33,680,52.3,0.427,23,0\\r\\n9,124,70,33,402,35.4,0.282,34,0\\r\\n1,111,86,19,0,30.1,0.143,23,0\\r\\n9,106,52,0,0,31.2,0.380,42,0\\r\\n2,129,84,0,0,28.0,0.284,27,0\\r\\n2,90,80,14,55,24.4,0.249,24,0\\r\\n0,86,68,32,0,35.8,0.238,25,0\\r\\n12,92,62,7,258,27.6,0.926,44,1\\r\\n1,113,64,35,0,33.6,0.543,21,1\\r\\n3,111,56,39,0,30.1,0.557,30,0\\r\\n2,114,68,22,0,28.7,0.092,25,0\\r\\n1,193,50,16,375,25.9,0.655,24,0\\r\\n11,155,76,28,150,33.3,1.353,51,1\\r\\n3,191,68,15,130,30.9,0.299,34,0\\r\\n3,141,0,0,0,30.0,0.761,27,1\\r\\n4,95,70,32,0,32.1,0.612,24,0\\r\\n3,142,80,15,0,32.4,0.200,63,0\\r\\n4,123,62,0,0,32.0,0.226,35,1\\r\\n5,96,74,18,67,33.6,0.997,43,0\\r\\n0,138,0,0,0,36.3,0.933,25,1\\r\\n2,128,64,42,0,40.0,1.101,24,0\\r\\n0,102,52,0,0,25.1,0.078,21,0\\r\\n2,146,0,0,0,27.5,0.240,28,1\\r\\n10,101,86,37,0,45.6,1.136,38,1\\r\\n2,108,62,32,56,25.2,0.128,21,0\\r\\n3,122,78,0,0,23.0,0.254,40,0\\r\\n1,71,78,50,45,33.2,0.422,21,0\\r\\n13,106,70,0,0,34.2,0.251,52,0\\r\\n2,100,70,52,57,40.5,0.677,25,0\\r\\n7,106,60,24,0,26.5,0.296,29,1\\r\\n0,104,64,23,116,27.8,0.454,23,0\\r\\n5,114,74,0,0,24.9,0.744,57,0\\r\\n2,108,62,10,278,25.3,0.881,22,0\\r\\n0,146,70,0,0,37.9,0.334,28,1\\r\\n10,129,76,28,122,35.9,0.280,39,0\\r\\n7,133,88,15,155,32.4,0.262,37,0\\r\\n7,161,86,0,0,30.4,0.165,47,1\\r\\n2,108,80,0,0,27.0,0.259,52,1\\r\\n7,136,74,26,135,26.0,0.647,51,0\\r\\n5,155,84,44,545,38.7,0.619,34,0\\r\\n1,119,86,39,220,45.6,0.808,29,1\\r\\n4,96,56,17,49,20.8,0.340,26,0\\r\\n5,108,72,43,75,36.1,0.263,33,0\\r\\n0,78,88,29,40,36.9,0.434,21,0\\r\\n0,107,62,30,74,36.6,0.757,25,1\\r\\n2,128,78,37,182,43.3,1.224,31,1\\r\\n1,128,48,45,194,40.5,0.613,24,1\\r\\n0,161,50,0,0,21.9,0.254,65,0\\r\\n6,151,62,31,120,35.5,0.692,28,0\\r\\n2,146,70,38,360,28.0,0.337,29,1\\r\\n0,126,84,29,215,30.7,0.520,24,0\\r\\n14,100,78,25,184,36.6,0.412,46,1\\r\\n8,112,72,0,0,23.6,0.840,58,0\\r\\n0,167,0,0,0,32.3,0.839,30,1\\r\\n2,144,58,33,135,31.6,0.422,25,1\\r\\n5,77,82,41,42,35.8,0.156,35,0\\r\\n5,115,98,0,0,52.9,0.209,28,1\\r\\n3,150,76,0,0,21.0,0.207,37,0\\r\\n2,120,76,37,105,39.7,0.215,29,0\\r\\n10,161,68,23,132,25.5,0.326,47,1\\r\\n0,137,68,14,148,24.8,0.143,21,0\\r\\n0,128,68,19,180,30.5,1.391,25,1\\r\\n2,124,68,28,205,32.9,0.875,30,1\\r\\n6,80,66,30,0,26.2,0.313,41,0\\r\\n0,106,70,37,148,39.4,0.605,22,0\\r\\n2,155,74,17,96,26.6,0.433,27,1\\r\\n3,113,50,10,85,29.5,0.626,25,0\\r\\n7,109,80,31,0,35.9,1.127,43,1\\r\\n2,112,68,22,94,34.1,0.315,26,0\\r\\n3,99,80,11,64,19.3,0.284,30,0\\r\\n3,182,74,0,0,30.5,0.345,29,1\\r\\n3,115,66,39,140,38.1,0.150,28,0\\r\\n6,194,78,0,0,23.5,0.129,59,1\\r\\n4,129,60,12,231,27.5,0.527,31,0\\r\\n3,112,74,30,0,31.6,0.197,25,1\\r\\n0,124,70,20,0,27.4,0.254,36,1\\r\\n13,152,90,33,29,26.8,0.731,43,1\\r\\n2,112,75,32,0,35.7,0.148,21,0\\r\\n1,157,72,21,168,25.6,0.123,24,0\\r\\n1,122,64,32,156,35.1,0.692,30,1\\r\\n10,179,70,0,0,35.1,0.200,37,0\\r\\n2,102,86,36,120,45.5,0.127,23,1\\r\\n6,105,70,32,68,30.8,0.122,37,0\\r\\n8,118,72,19,0,23.1,1.476,46,0\\r\\n2,87,58,16,52,32.7,0.166,25,0\\r\\n1,180,0,0,0,43.3,0.282,41,1\\r\\n12,106,80,0,0,23.6,0.137,44,0\\r\\n1,95,60,18,58,23.9,0.260,22,0\\r\\n0,165,76,43,255,47.9,0.259,26,0\\r\\n0,117,0,0,0,33.8,0.932,44,0\\r\\n5,115,76,0,0,31.2,0.343,44,1\\r\\n9,152,78,34,171,34.2,0.893,33,1\\r\\n7,178,84,0,0,39.9,0.331,41,1\\r\\n1,130,70,13,105,25.9,0.472,22,0\\r\\n1,95,74,21,73,25.9,0.673,36,0\\r\\n1,0,68,35,0,32.0,0.389,22,0\\r\\n5,122,86,0,0,34.7,0.290,33,0\\r\\n8,95,72,0,0,36.8,0.485,57,0\\r\\n8,126,88,36,108,38.5,0.349,49,0\\r\\n1,139,46,19,83,28.7,0.654,22,0\\r\\n3,116,0,0,0,23.5,0.187,23,0\\r\\n3,99,62,19,74,21.8,0.279,26,0\\r\\n5,0,80,32,0,41.0,0.346,37,1\\r\\n4,92,80,0,0,42.2,0.237,29,0\\r\\n4,137,84,0,0,31.2,0.252,30,0\\r\\n3,61,82,28,0,34.4,0.243,46,0\\r\\n1,90,62,12,43,27.2,0.580,24,0\\r\\n3,90,78,0,0,42.7,0.559,21,0\\r\\n9,165,88,0,0,30.4,0.302,49,1\\r\\n1,125,50,40,167,33.3,0.962,28,1\\r\\n13,129,0,30,0,39.9,0.569,44,1\\r\\n12,88,74,40,54,35.3,0.378,48,0\\r\\n1,196,76,36,249,36.5,0.875,29,1\\r\\n5,189,64,33,325,31.2,0.583,29,1\\r\\n5,158,70,0,0,29.8,0.207,63,0\\r\\n5,103,108,37,0,39.2,0.305,65,0\\r\\n4,146,78,0,0,38.5,0.520,67,1\\r\\n4,147,74,25,293,34.9,0.385,30,0\\r\\n5,99,54,28,83,34.0,0.499,30,0\\r\\n6,124,72,0,0,27.6,0.368,29,1\\r\\n0,101,64,17,0,21.0,0.252,21,0\\r\\n3,81,86,16,66,27.5,0.306,22,0\\r\\n1,133,102,28,140,32.8,0.234,45,1\\r\\n3,173,82,48,465,38.4,2.137,25,1\\r\\n0,118,64,23,89,0.0,1.731,21,0\\r\\n0,84,64,22,66,35.8,0.545,21,0\\r\\n2,105,58,40,94,34.9,0.225,25,0\\r\\n2,122,52,43,158,36.2,0.816,28,0\\r\\n12,140,82,43,325,39.2,0.528,58,1\\r\\n0,98,82,15,84,25.2,0.299,22,0\\r\\n1,87,60,37,75,37.2,0.509,22,0\\r\\n4,156,75,0,0,48.3,0.238,32,1\\r\\n0,93,100,39,72,43.4,1.021,35,0\\r\\n1,107,72,30,82,30.8,0.821,24,0\\r\\n0,105,68,22,0,20.0,0.236,22,0\\r\\n1,109,60,8,182,25.4,0.947,21,0\\r\\n1,90,62,18,59,25.1,1.268,25,0\\r\\n1,125,70,24,110,24.3,0.221,25,0\\r\\n1,119,54,13,50,22.3,0.205,24,0\\r\\n5,116,74,29,0,32.3,0.660,35,1\\r\\n8,105,100,36,0,43.3,0.239,45,1\\r\\n5,144,82,26,285,32.0,0.452,58,1\\r\\n3,100,68,23,81,31.6,0.949,28,0\\r\\n1,100,66,29,196,32.0,0.444,42,0\\r\\n5,166,76,0,0,45.7,0.340,27,1\\r\\n1,131,64,14,415,23.7,0.389,21,0\\r\\n4,116,72,12,87,22.1,0.463,37,0\\r\\n4,158,78,0,0,32.9,0.803,31,1\\r\\n2,127,58,24,275,27.7,1.600,25,0\\r\\n3,96,56,34,115,24.7,0.944,39,0\\r\\n0,131,66,40,0,34.3,0.196,22,1\\r\\n3,82,70,0,0,21.1,0.389,25,0\\r\\n3,193,70,31,0,34.9,0.241,25,1\\r\\n4,95,64,0,0,32.0,0.161,31,1\\r\\n6,137,61,0,0,24.2,0.151,55,0\\r\\n5,136,84,41,88,35.0,0.286,35,1\\r\\n9,72,78,25,0,31.6,0.280,38,0\\r\\n5,168,64,0,0,32.9,0.135,41,1\\r\\n2,123,48,32,165,42.1,0.520,26,0\\r\\n4,115,72,0,0,28.9,0.376,46,1\\r\\n0,101,62,0,0,21.9,0.336,25,0\\r\\n8,197,74,0,0,25.9,1.191,39,1\\r\\n1,172,68,49,579,42.4,0.702,28,1\\r\\n6,102,90,39,0,35.7,0.674,28,0\\r\\n1,112,72,30,176,34.4,0.528,25,0\\r\\n1,143,84,23,310,42.4,1.076,22,0\\r\\n1,143,74,22,61,26.2,0.256,21,0\\r\\n0,138,60,35,167,34.6,0.534,21,1\\r\\n3,173,84,33,474,35.7,0.258,22,1\\r\\n1,97,68,21,0,27.2,1.095,22,0\\r\\n4,144,82,32,0,38.5,0.554,37,1\\r\\n1,83,68,0,0,18.2,0.624,27,0\\r\\n3,129,64,29,115,26.4,0.219,28,1\\r\\n1,119,88,41,170,45.3,0.507,26,0\\r\\n2,94,68,18,76,26.0,0.561,21,0\\r\\n0,102,64,46,78,40.6,0.496,21,0\\r\\n2,115,64,22,0,30.8,0.421,21,0\\r\\n8,151,78,32,210,42.9,0.516,36,1\\r\\n4,184,78,39,277,37.0,0.264,31,1\\r\\n0,94,0,0,0,0.0,0.256,25,0\\r\\n1,181,64,30,180,34.1,0.328,38,1\\r\\n0,135,94,46,145,40.6,0.284,26,0\\r\\n1,95,82,25,180,35.0,0.233,43,1\\r\\n2,99,0,0,0,22.2,0.108,23,0\\r\\n3,89,74,16,85,30.4,0.551,38,0\\r\\n1,80,74,11,60,30.0,0.527,22,0\\r\\n2,139,75,0,0,25.6,0.167,29,0\\r\\n1,90,68,8,0,24.5,1.138,36,0\\r\\n0,141,0,0,0,42.4,0.205,29,1\\r\\n12,140,85,33,0,37.4,0.244,41,0\\r\\n5,147,75,0,0,29.9,0.434,28,0\\r\\n1,97,70,15,0,18.2,0.147,21,0\\r\\n6,107,88,0,0,36.8,0.727,31,0\\r\\n0,189,104,25,0,34.3,0.435,41,1\\r\\n2,83,66,23,50,32.2,0.497,22,0\\r\\n4,117,64,27,120,33.2,0.230,24,0\\r\\n8,108,70,0,0,30.5,0.955,33,1\\r\\n4,117,62,12,0,29.7,0.380,30,1\\r\\n0,180,78,63,14,59.4,2.420,25,1\\r\\n1,100,72,12,70,25.3,0.658,28,0\\r\\n0,95,80,45,92,36.5,0.330,26,0\\r\\n0,104,64,37,64,33.6,0.510,22,1\\r\\n0,120,74,18,63,30.5,0.285,26,0\\r\\n1,82,64,13,95,21.2,0.415,23,0\\r\\n2,134,70,0,0,28.9,0.542,23,1\\r\\n0,91,68,32,210,39.9,0.381,25,0\\r\\n2,119,0,0,0,19.6,0.832,72,0\\r\\n2,100,54,28,105,37.8,0.498,24,0\\r\\n14,175,62,30,0,33.6,0.212,38,1\\r\\n1,135,54,0,0,26.7,0.687,62,0\\r\\n5,86,68,28,71,30.2,0.364,24,0\\r\\n10,148,84,48,237,37.6,1.001,51,1\\r\\n9,134,74,33,60,25.9,0.460,81,0\\r\\n9,120,72,22,56,20.8,0.733,48,0\\r\\n1,71,62,0,0,21.8,0.416,26,0\\r\\n8,74,70,40,49,35.3,0.705,39,0\\r\\n5,88,78,30,0,27.6,0.258,37,0\\r\\n10,115,98,0,0,24.0,1.022,34,0\\r\\n0,124,56,13,105,21.8,0.452,21,0\\r\\n0,74,52,10,36,27.8,0.269,22,0\\r\\n0,97,64,36,100,36.8,0.600,25,0\\r\\n8,120,0,0,0,30.0,0.183,38,1\\r\\n6,154,78,41,140,46.1,0.571,27,0\\r\\n1,144,82,40,0,41.3,0.607,28,0\\r\\n0,137,70,38,0,33.2,0.170,22,0\\r\\n0,119,66,27,0,38.8,0.259,22,0\\r\\n7,136,90,0,0,29.9,0.210,50,0\\r\\n4,114,64,0,0,28.9,0.126,24,0\\r\\n0,137,84,27,0,27.3,0.231,59,0\\r\\n2,105,80,45,191,33.7,0.711,29,1\\r\\n7,114,76,17,110,23.8,0.466,31,0\\r\\n8,126,74,38,75,25.9,0.162,39,0\\r\\n4,132,86,31,0,28.0,0.419,63,0\\r\\n3,158,70,30,328,35.5,0.344,35,1\\r\\n0,123,88,37,0,35.2,0.197,29,0\\r\\n4,85,58,22,49,27.8,0.306,28,0\\r\\n0,84,82,31,125,38.2,0.233,23,0\\r\\n0,145,0,0,0,44.2,0.630,31,1\\r\\n0,135,68,42,250,42.3,0.365,24,1\\r\\n1,139,62,41,480,40.7,0.536,21,0\\r\\n0,173,78,32,265,46.5,1.159,58,0\\r\\n4,99,72,17,0,25.6,0.294,28,0\\r\\n8,194,80,0,0,26.1,0.551,67,0\\r\\n2,83,65,28,66,36.8,0.629,24,0\\r\\n2,89,90,30,0,33.5,0.292,42,0\\r\\n4,99,68,38,0,32.8,0.145,33,0\\r\\n4,125,70,18,122,28.9,1.144,45,1\\r\\n3,80,0,0,0,0.0,0.174,22,0\\r\\n6,166,74,0,0,26.6,0.304,66,0\\r\\n5,110,68,0,0,26.0,0.292,30,0\\r\\n2,81,72,15,76,30.1,0.547,25,0\\r\\n7,195,70,33,145,25.1,0.163,55,1\\r\\n6,154,74,32,193,29.3,0.839,39,0\\r\\n2,117,90,19,71,25.2,0.313,21,0\\r\\n3,84,72,32,0,37.2,0.267,28,0\\r\\n6,0,68,41,0,39.0,0.727,41,1\\r\\n7,94,64,25,79,33.3,0.738,41,0\\r\\n3,96,78,39,0,37.3,0.238,40,0\\r\\n10,75,82,0,0,33.3,0.263,38,0\\r\\n0,180,90,26,90,36.5,0.314,35,1\\r\\n1,130,60,23,170,28.6,0.692,21,0\\r\\n2,84,50,23,76,30.4,0.968,21,0\\r\\n8,120,78,0,0,25.0,0.409,64,0\\r\\n12,84,72,31,0,29.7,0.297,46,1\\r\\n0,139,62,17,210,22.1,0.207,21,0\\r\\n9,91,68,0,0,24.2,0.200,58,0\\r\\n2,91,62,0,0,27.3,0.525,22,0\\r\\n3,99,54,19,86,25.6,0.154,24,0\\r\\n3,163,70,18,105,31.6,0.268,28,1\\r\\n9,145,88,34,165,30.3,0.771,53,1\\r\\n7,125,86,0,0,37.6,0.304,51,0\\r\\n13,76,60,0,0,32.8,0.180,41,0\\r\\n6,129,90,7,326,19.6,0.582,60,0\\r\\n2,68,70,32,66,25.0,0.187,25,0\\r\\n3,124,80,33,130,33.2,0.305,26,0\\r\\n6,114,0,0,0,0.0,0.189,26,0\\r\\n9,130,70,0,0,34.2,0.652,45,1\\r\\n3,125,58,0,0,31.6,0.151,24,0\\r\\n3,87,60,18,0,21.8,0.444,21,0\\r\\n1,97,64,19,82,18.2,0.299,21,0\\r\\n3,116,74,15,105,26.3,0.107,24,0\\r\\n0,117,66,31,188,30.8,0.493,22,0\\r\\n0,111,65,0,0,24.6,0.660,31,0\\r\\n2,122,60,18,106,29.8,0.717,22,0\\r\\n0,107,76,0,0,45.3,0.686,24,0\\r\\n1,86,66,52,65,41.3,0.917,29,0\\r\\n6,91,0,0,0,29.8,0.501,31,0\\r\\n1,77,56,30,56,33.3,1.251,24,0\\r\\n4,132,0,0,0,32.9,0.302,23,1\\r\\n0,105,90,0,0,29.6,0.197,46,0\\r\\n0,57,60,0,0,21.7,0.735,67,0\\r\\n0,127,80,37,210,36.3,0.804,23,0\\r\\n3,129,92,49,155,36.4,0.968,32,1\\r\\n8,100,74,40,215,39.4,0.661,43,1\\r\\n3,128,72,25,190,32.4,0.549,27,1\\r\\n10,90,85,32,0,34.9,0.825,56,1\\r\\n4,84,90,23,56,39.5,0.159,25,0\\r\\n1,88,78,29,76,32.0,0.365,29,0\\r\\n8,186,90,35,225,34.5,0.423,37,1\\r\\n5,187,76,27,207,43.6,1.034,53,1\\r\\n4,131,68,21,166,33.1,0.160,28,0\\r\\n1,164,82,43,67,32.8,0.341,50,0\\r\\n4,189,110,31,0,28.5,0.680,37,0\\r\\n1,116,70,28,0,27.4,0.204,21,0\\r\\n3,84,68,30,106,31.9,0.591,25,0\\r\\n6,114,88,0,0,27.8,0.247,66,0\\r\\n1,88,62,24,44,29.9,0.422,23,0\\r\\n1,84,64,23,115,36.9,0.471,28,0\\r\\n7,124,70,33,215,25.5,0.161,37,0\\r\\n1,97,70,40,0,38.1,0.218,30,0\\r\\n8,110,76,0,0,27.8,0.237,58,0\\r\\n11,103,68,40,0,46.2,0.126,42,0\\r\\n11,85,74,0,0,30.1,0.300,35,0\\r\\n6,125,76,0,0,33.8,0.121,54,1\\r\\n0,198,66,32,274,41.3,0.502,28,1\\r\\n1,87,68,34,77,37.6,0.401,24,0\\r\\n6,99,60,19,54,26.9,0.497,32,0\\r\\n0,91,80,0,0,32.4,0.601,27,0\\r\\n2,95,54,14,88,26.1,0.748,22,0\\r\\n1,99,72,30,18,38.6,0.412,21,0\\r\\n6,92,62,32,126,32.0,0.085,46,0\\r\\n4,154,72,29,126,31.3,0.338,37,0\\r\\n0,121,66,30,165,34.3,0.203,33,1\\r\\n3,78,70,0,0,32.5,0.270,39,0\\r\\n2,130,96,0,0,22.6,0.268,21,0\\r\\n3,111,58,31,44,29.5,0.430,22,0\\r\\n2,98,60,17,120,34.7,0.198,22,0\\r\\n1,143,86,30,330,30.1,0.892,23,0\\r\\n1,119,44,47,63,35.5,0.280,25,0\\r\\n6,108,44,20,130,24.0,0.813,35,0\\r\\n2,118,80,0,0,42.9,0.693,21,1\\r\\n10,133,68,0,0,27.0,0.245,36,0\\r\\n2,197,70,99,0,34.7,0.575,62,1\\r\\n0,151,90,46,0,42.1,0.371,21,1\\r\\n6,109,60,27,0,25.0,0.206,27,0\\r\\n12,121,78,17,0,26.5,0.259,62,0\\r\\n8,100,76,0,0,38.7,0.190,42,0\\r\\n8,124,76,24,600,28.7,0.687,52,1\\r\\n1,93,56,11,0,22.5,0.417,22,0\\r\\n8,143,66,0,0,34.9,0.129,41,1\\r\\n6,103,66,0,0,24.3,0.249,29,0\\r\\n3,176,86,27,156,33.3,1.154,52,1\\r\\n0,73,0,0,0,21.1,0.342,25,0\\r\\n11,111,84,40,0,46.8,0.925,45,1\\r\\n2,112,78,50,140,39.4,0.175,24,0\\r\\n3,132,80,0,0,34.4,0.402,44,1\\r\\n2,82,52,22,115,28.5,1.699,25,0\\r\\n6,123,72,45,230,33.6,0.733,34,0\\r\\n0,188,82,14,185,32.0,0.682,22,1\\r\\n0,67,76,0,0,45.3,0.194,46,0\\r\\n1,89,24,19,25,27.8,0.559,21,0\\r\\n1,173,74,0,0,36.8,0.088,38,1\\r\\n1,109,38,18,120,23.1,0.407,26,0\\r\\n1,108,88,19,0,27.1,0.400,24,0\\r\\n6,96,0,0,0,23.7,0.190,28,0\\r\\n1,124,74,36,0,27.8,0.100,30,0\\r\\n7,150,78,29,126,35.2,0.692,54,1\\r\\n4,183,0,0,0,28.4,0.212,36,1\\r\\n1,124,60,32,0,35.8,0.514,21,0\\r\\n1,181,78,42,293,40.0,1.258,22,1\\r\\n1,92,62,25,41,19.5,0.482,25,0\\r\\n0,152,82,39,272,41.5,0.270,27,0\\r\\n1,111,62,13,182,24.0,0.138,23,0\\r\\n3,106,54,21,158,30.9,0.292,24,0\\r\\n3,174,58,22,194,32.9,0.593,36,1\\r\\n7,168,88,42,321,38.2,0.787,40,1\\r\\n6,105,80,28,0,32.5,0.878,26,0\\r\\n11,138,74,26,144,36.1,0.557,50,1\\r\\n3,106,72,0,0,25.8,0.207,27,0\\r\\n6,117,96,0,0,28.7,0.157,30,0\\r\\n2,68,62,13,15,20.1,0.257,23,0\\r\\n9,112,82,24,0,28.2,1.282,50,1\\r\\n0,119,0,0,0,32.4,0.141,24,1\\r\\n2,112,86,42,160,38.4,0.246,28,0\\r\\n2,92,76,20,0,24.2,1.698,28,0\\r\\n6,183,94,0,0,40.8,1.461,45,0\\r\\n0,94,70,27,115,43.5,0.347,21,0\\r\\n2,108,64,0,0,30.8,0.158,21,0\\r\\n4,90,88,47,54,37.7,0.362,29,0\\r\\n0,125,68,0,0,24.7,0.206,21,0\\r\\n0,132,78,0,0,32.4,0.393,21,0\\r\\n5,128,80,0,0,34.6,0.144,45,0\\r\\n4,94,65,22,0,24.7,0.148,21,0\\r\\n7,114,64,0,0,27.4,0.732,34,1\\r\\n0,102,78,40,90,34.5,0.238,24,0\\r\\n2,111,60,0,0,26.2,0.343,23,0\\r\\n1,128,82,17,183,27.5,0.115,22,0\\r\\n10,92,62,0,0,25.9,0.167,31,0\\r\\n13,104,72,0,0,31.2,0.465,38,1\\r\\n5,104,74,0,0,28.8,0.153,48,0\\r\\n2,94,76,18,66,31.6,0.649,23,0\\r\\n7,97,76,32,91,40.9,0.871,32,1\\r\\n1,100,74,12,46,19.5,0.149,28,0\\r\\n0,102,86,17,105,29.3,0.695,27,0\\r\\n4,128,70,0,0,34.3,0.303,24,0\\r\\n6,147,80,0,0,29.5,0.178,50,1\\r\\n4,90,0,0,0,28.0,0.610,31,0\\r\\n3,103,72,30,152,27.6,0.730,27,0\\r\\n2,157,74,35,440,39.4,0.134,30,0\\r\\n1,167,74,17,144,23.4,0.447,33,1\\r\\n0,179,50,36,159,37.8,0.455,22,1\\r\\n11,136,84,35,130,28.3,0.260,42,1\\r\\n0,107,60,25,0,26.4,0.133,23,0\\r\\n1,91,54,25,100,25.2,0.234,23,0\\r\\n1,117,60,23,106,33.8,0.466,27,0\\r\\n5,123,74,40,77,34.1,0.269,28,0\\r\\n2,120,54,0,0,26.8,0.455,27,0\\r\\n1,106,70,28,135,34.2,0.142,22,0\\r\\n2,155,52,27,540,38.7,0.240,25,1\\r\\n2,101,58,35,90,21.8,0.155,22,0\\r\\n1,120,80,48,200,38.9,1.162,41,0\\r\\n11,127,106,0,0,39.0,0.190,51,0\\r\\n3,80,82,31,70,34.2,1.292,27,1\\r\\n10,162,84,0,0,27.7,0.182,54,0\\r\\n1,199,76,43,0,42.9,1.394,22,1\\r\\n8,167,106,46,231,37.6,0.165,43,1\\r\\n9,145,80,46,130,37.9,0.637,40,1\\r\\n6,115,60,39,0,33.7,0.245,40,1\\r\\n1,112,80,45,132,34.8,0.217,24,0\\r\\n4,145,82,18,0,32.5,0.235,70,1\\r\\n10,111,70,27,0,27.5,0.141,40,1\\r\\n6,98,58,33,190,34.0,0.430,43,0\\r\\n9,154,78,30,100,30.9,0.164,45,0\\r\\n6,165,68,26,168,33.6,0.631,49,0\\r\\n1,99,58,10,0,25.4,0.551,21,0\\r\\n10,68,106,23,49,35.5,0.285,47,0\\r\\n3,123,100,35,240,57.3,0.880,22,0\\r\\n8,91,82,0,0,35.6,0.587,68,0\\r\\n6,195,70,0,0,30.9,0.328,31,1\\r\\n9,156,86,0,0,24.8,0.230,53,1\\r\\n0,93,60,0,0,35.3,0.263,25,0\\r\\n3,121,52,0,0,36.0,0.127,25,1\\r\\n2,101,58,17,265,24.2,0.614,23,0\\r\\n2,56,56,28,45,24.2,0.332,22,0\\r\\n0,162,76,36,0,49.6,0.364,26,1\\r\\n0,95,64,39,105,44.6,0.366,22,0\\r\\n4,125,80,0,0,32.3,0.536,27,1\\r\\n5,136,82,0,0,0.0,0.640,69,0\\r\\n2,129,74,26,205,33.2,0.591,25,0\\r\\n3,130,64,0,0,23.1,0.314,22,0\\r\\n1,107,50,19,0,28.3,0.181,29,0\\r\\n1,140,74,26,180,24.1,0.828,23,0\\r\\n1,144,82,46,180,46.1,0.335,46,1\\r\\n8,107,80,0,0,24.6,0.856,34,0\\r\\n13,158,114,0,0,42.3,0.257,44,1\\r\\n2,121,70,32,95,39.1,0.886,23,0\\r\\n7,129,68,49,125,38.5,0.439,43,1\\r\\n2,90,60,0,0,23.5,0.191,25,0\\r\\n7,142,90,24,480,30.4,0.128,43,1\\r\\n3,169,74,19,125,29.9,0.268,31,1\\r\\n0,99,0,0,0,25.0,0.253,22,0\\r\\n4,127,88,11,155,34.5,0.598,28,0\\r\\n4,118,70,0,0,44.5,0.904,26,0\\r\\n2,122,76,27,200,35.9,0.483,26,0\\r\\n6,125,78,31,0,27.6,0.565,49,1\\r\\n1,168,88,29,0,35.0,0.905,52,1\\r\\n2,129,0,0,0,38.5,0.304,41,0\\r\\n4,110,76,20,100,28.4,0.118,27,0\\r\\n6,80,80,36,0,39.8,0.177,28,0\\r\\n10,115,0,0,0,0.0,0.261,30,1\\r\\n2,127,46,21,335,34.4,0.176,22,0\\r\\n9,164,78,0,0,32.8,0.148,45,1\\r\\n2,93,64,32,160,38.0,0.674,23,1\\r\\n3,158,64,13,387,31.2,0.295,24,0\\r\\n5,126,78,27,22,29.6,0.439,40,0\\r\\n10,129,62,36,0,41.2,0.441,38,1\\r\\n0,134,58,20,291,26.4,0.352,21,0\\r\\n3,102,74,0,0,29.5,0.121,32,0\\r\\n7,187,50,33,392,33.9,0.826,34,1\\r\\n3,173,78,39,185,33.8,0.970,31,1\\r\\n10,94,72,18,0,23.1,0.595,56,0\\r\\n1,108,60,46,178,35.5,0.415,24,0\\r\\n5,97,76,27,0,35.6,0.378,52,1\\r\\n4,83,86,19,0,29.3,0.317,34,0\\r\\n1,114,66,36,200,38.1,0.289,21,0\\r\\n1,149,68,29,127,29.3,0.349,42,1\\r\\n5,117,86,30,105,39.1,0.251,42,0\\r\\n1,111,94,0,0,32.8,0.265,45,0\\r\\n4,112,78,40,0,39.4,0.236,38,0\\r\\n1,116,78,29,180,36.1,0.496,25,0\\r\\n0,141,84,26,0,32.4,0.433,22,0\\r\\n2,175,88,0,0,22.9,0.326,22,0\\r\\n2,92,52,0,0,30.1,0.141,22,0\\r\\n3,130,78,23,79,28.4,0.323,34,1\\r\\n8,120,86,0,0,28.4,0.259,22,1\\r\\n2,174,88,37,120,44.5,0.646,24,1\\r\\n2,106,56,27,165,29.0,0.426,22,0\\r\\n2,105,75,0,0,23.3,0.560,53,0\\r\\n4,95,60,32,0,35.4,0.284,28,0\\r\\n0,126,86,27,120,27.4,0.515,21,0\\r\\n8,65,72,23,0,32.0,0.600,42,0\\r\\n2,99,60,17,160,36.6,0.453,21,0\\r\\n1,102,74,0,0,39.5,0.293,42,1\\r\\n11,120,80,37,150,42.3,0.785,48,1\\r\\n3,102,44,20,94,30.8,0.400,26,0\\r\\n1,109,58,18,116,28.5,0.219,22,0\\r\\n9,140,94,0,0,32.7,0.734,45,1\\r\\n13,153,88,37,140,40.6,1.174,39,0\\r\\n12,100,84,33,105,30.0,0.488,46,0\\r\\n1,147,94,41,0,49.3,0.358,27,1\\r\\n1,81,74,41,57,46.3,1.096,32,0\\r\\n3,187,70,22,200,36.4,0.408,36,1\\r\\n6,162,62,0,0,24.3,0.178,50,1\\r\\n4,136,70,0,0,31.2,1.182,22,1\\r\\n1,121,78,39,74,39.0,0.261,28,0\\r\\n3,108,62,24,0,26.0,0.223,25,0\\r\\n0,181,88,44,510,43.3,0.222,26,1\\r\\n8,154,78,32,0,32.4,0.443,45,1\\r\\n1,128,88,39,110,36.5,1.057,37,1\\r\\n7,137,90,41,0,32.0,0.391,39,0\\r\\n0,123,72,0,0,36.3,0.258,52,1\\r\\n1,106,76,0,0,37.5,0.197,26,0\\r\\n6,190,92,0,0,35.5,0.278,66,1\\r\\n2,88,58,26,16,28.4,0.766,22,0\\r\\n9,170,74,31,0,44.0,0.403,43,1\\r\\n9,89,62,0,0,22.5,0.142,33,0\\r\\n10,101,76,48,180,32.9,0.171,63,0\\r\\n2,122,70,27,0,36.8,0.340,27,0\\r\\n5,121,72,23,112,26.2,0.245,30,0\\r\\n1,126,60,0,0,30.1,0.349,47,1\\r\\n1,93,70,31,0,30.4,0.315,23,0'}"
            ]
          },
          "metadata": {
            "tags": []
          },
          "execution_count": 15
        }
      ]
    },
    {
      "cell_type": "markdown",
      "metadata": {
        "id": "3fFGmRZUzdJ2"
      },
      "source": [
        "#### `◘ Actual algorithm`"
      ]
    },
    {
      "cell_type": "code",
      "metadata": {
        "id": "GDAHkij9Y4ys",
        "outputId": "e3ce4b6e-1a77-4d8c-a5af-b7069d9271d2",
        "colab": {
          "base_uri": "https://localhost:8080/",
          "height": 1000
        }
      },
      "source": [
        "from numpy import loadtxt\n",
        "from keras.models import Sequential\n",
        "from keras.layers import Dense\n",
        "\n",
        "# loading the dataset\n",
        "dataset = loadtxt('/content/drive/My Drive/Colab Notebooks/pima-indians-diabetes.csv', delimiter=',')\n",
        "\n",
        "# split into input (X) and output (y) variables\n",
        "X = dataset[:,0:8]\n",
        "y = dataset[:,8]\n",
        "\n",
        "# defining the keras model\n",
        "model = Sequential()\n",
        "model.add(Dense(12, input_dim=8, activation='relu'))\n",
        "model.add(Dense(8, activation='relu'))\n",
        "model.add(Dense(1, activation='sigmoid'))\n",
        "\n",
        "# compile the keras model\n",
        "model.compile(loss='binary_crossentropy', optimizer='adam', metrics=['accuracy'])\n",
        "\n",
        "# fit the keras model on the dataset\n",
        "model.fit(X, y, epochs=170, batch_size=10)\n",
        "\n",
        "# evaluate the keras model\n",
        "_, accuracy = model.evaluate(X, y)\n",
        "print('Accuracy: %.2f' % (accuracy*100))"
      ],
      "execution_count": null,
      "outputs": [
        {
          "output_type": "stream",
          "text": [
            "Epoch 1/170\n",
            "77/77 [==============================] - 0s 901us/step - loss: 3.5934 - accuracy: 0.5104\n",
            "Epoch 2/170\n",
            "77/77 [==============================] - 0s 911us/step - loss: 2.2045 - accuracy: 0.5417\n",
            "Epoch 3/170\n",
            "77/77 [==============================] - 0s 1ms/step - loss: 1.3076 - accuracy: 0.6042\n",
            "Epoch 4/170\n",
            "77/77 [==============================] - 0s 998us/step - loss: 1.0232 - accuracy: 0.5755\n",
            "Epoch 5/170\n",
            "77/77 [==============================] - 0s 926us/step - loss: 0.9515 - accuracy: 0.5872\n",
            "Epoch 6/170\n",
            "77/77 [==============================] - 0s 881us/step - loss: 0.8803 - accuracy: 0.5872\n",
            "Epoch 7/170\n",
            "77/77 [==============================] - 0s 992us/step - loss: 0.8064 - accuracy: 0.6120\n",
            "Epoch 8/170\n",
            "77/77 [==============================] - 0s 901us/step - loss: 0.7585 - accuracy: 0.6237\n",
            "Epoch 9/170\n",
            "77/77 [==============================] - 0s 959us/step - loss: 0.7367 - accuracy: 0.6445\n",
            "Epoch 10/170\n",
            "77/77 [==============================] - 0s 925us/step - loss: 0.7187 - accuracy: 0.6406\n",
            "Epoch 11/170\n",
            "77/77 [==============================] - 0s 930us/step - loss: 0.7016 - accuracy: 0.6536\n",
            "Epoch 12/170\n",
            "77/77 [==============================] - 0s 928us/step - loss: 0.6977 - accuracy: 0.6523\n",
            "Epoch 13/170\n",
            "77/77 [==============================] - 0s 915us/step - loss: 0.7071 - accuracy: 0.6302\n",
            "Epoch 14/170\n",
            "77/77 [==============================] - 0s 903us/step - loss: 0.7451 - accuracy: 0.6445\n",
            "Epoch 15/170\n",
            "77/77 [==============================] - 0s 905us/step - loss: 0.6886 - accuracy: 0.6549\n",
            "Epoch 16/170\n",
            "77/77 [==============================] - 0s 940us/step - loss: 0.7025 - accuracy: 0.6445\n",
            "Epoch 17/170\n",
            "77/77 [==============================] - 0s 1ms/step - loss: 0.6485 - accuracy: 0.6667\n",
            "Epoch 18/170\n",
            "77/77 [==============================] - 0s 986us/step - loss: 0.6962 - accuracy: 0.6484\n",
            "Epoch 19/170\n",
            "77/77 [==============================] - 0s 919us/step - loss: 0.6851 - accuracy: 0.6471\n",
            "Epoch 20/170\n",
            "77/77 [==============================] - 0s 928us/step - loss: 0.6370 - accuracy: 0.6745\n",
            "Epoch 21/170\n",
            "77/77 [==============================] - 0s 918us/step - loss: 0.6334 - accuracy: 0.6875\n",
            "Epoch 22/170\n",
            "77/77 [==============================] - 0s 927us/step - loss: 0.6728 - accuracy: 0.6589\n",
            "Epoch 23/170\n",
            "77/77 [==============================] - 0s 962us/step - loss: 0.6177 - accuracy: 0.6797\n",
            "Epoch 24/170\n",
            "77/77 [==============================] - 0s 920us/step - loss: 0.6115 - accuracy: 0.6680\n",
            "Epoch 25/170\n",
            "77/77 [==============================] - 0s 918us/step - loss: 0.6952 - accuracy: 0.6602\n",
            "Epoch 26/170\n",
            "77/77 [==============================] - 0s 931us/step - loss: 0.6447 - accuracy: 0.6680\n",
            "Epoch 27/170\n",
            "77/77 [==============================] - 0s 1ms/step - loss: 0.6078 - accuracy: 0.6966\n",
            "Epoch 28/170\n",
            "77/77 [==============================] - 0s 931us/step - loss: 0.6111 - accuracy: 0.7096\n",
            "Epoch 29/170\n",
            "77/77 [==============================] - 0s 939us/step - loss: 0.6595 - accuracy: 0.6641\n",
            "Epoch 30/170\n",
            "77/77 [==============================] - 0s 1ms/step - loss: 0.6167 - accuracy: 0.6810\n",
            "Epoch 31/170\n",
            "77/77 [==============================] - 0s 923us/step - loss: 0.6141 - accuracy: 0.6888\n",
            "Epoch 32/170\n",
            "77/77 [==============================] - 0s 928us/step - loss: 0.5993 - accuracy: 0.7109\n",
            "Epoch 33/170\n",
            "77/77 [==============================] - 0s 918us/step - loss: 0.6167 - accuracy: 0.6901\n",
            "Epoch 34/170\n",
            "77/77 [==============================] - 0s 931us/step - loss: 0.6495 - accuracy: 0.6654\n",
            "Epoch 35/170\n",
            "77/77 [==============================] - 0s 910us/step - loss: 0.6897 - accuracy: 0.6654\n",
            "Epoch 36/170\n",
            "77/77 [==============================] - 0s 977us/step - loss: 0.6078 - accuracy: 0.7044\n",
            "Epoch 37/170\n",
            "77/77 [==============================] - 0s 942us/step - loss: 0.5939 - accuracy: 0.7122\n",
            "Epoch 38/170\n",
            "77/77 [==============================] - 0s 888us/step - loss: 0.6002 - accuracy: 0.6836\n",
            "Epoch 39/170\n",
            "77/77 [==============================] - 0s 961us/step - loss: 0.5870 - accuracy: 0.6940\n",
            "Epoch 40/170\n",
            "77/77 [==============================] - 0s 918us/step - loss: 0.5906 - accuracy: 0.7161\n",
            "Epoch 41/170\n",
            "77/77 [==============================] - 0s 946us/step - loss: 0.5822 - accuracy: 0.7135\n",
            "Epoch 42/170\n",
            "77/77 [==============================] - 0s 906us/step - loss: 0.5660 - accuracy: 0.7109\n",
            "Epoch 43/170\n",
            "77/77 [==============================] - 0s 943us/step - loss: 0.5647 - accuracy: 0.7292\n",
            "Epoch 44/170\n",
            "77/77 [==============================] - 0s 1ms/step - loss: 0.5912 - accuracy: 0.6966\n",
            "Epoch 45/170\n",
            "77/77 [==============================] - 0s 930us/step - loss: 0.5542 - accuracy: 0.7266\n",
            "Epoch 46/170\n",
            "77/77 [==============================] - 0s 912us/step - loss: 0.6014 - accuracy: 0.7044\n",
            "Epoch 47/170\n",
            "77/77 [==============================] - 0s 945us/step - loss: 0.5862 - accuracy: 0.7044\n",
            "Epoch 48/170\n",
            "77/77 [==============================] - 0s 1ms/step - loss: 0.5708 - accuracy: 0.6992\n",
            "Epoch 49/170\n",
            "77/77 [==============================] - 0s 922us/step - loss: 0.5940 - accuracy: 0.7031\n",
            "Epoch 50/170\n",
            "77/77 [==============================] - 0s 939us/step - loss: 0.5731 - accuracy: 0.7174\n",
            "Epoch 51/170\n",
            "77/77 [==============================] - 0s 1ms/step - loss: 0.5521 - accuracy: 0.7253\n",
            "Epoch 52/170\n",
            "77/77 [==============================] - 0s 1ms/step - loss: 0.5706 - accuracy: 0.7096\n",
            "Epoch 53/170\n",
            "77/77 [==============================] - 0s 947us/step - loss: 0.5652 - accuracy: 0.7005\n",
            "Epoch 54/170\n",
            "77/77 [==============================] - 0s 941us/step - loss: 0.6214 - accuracy: 0.6901\n",
            "Epoch 55/170\n",
            "77/77 [==============================] - 0s 917us/step - loss: 0.6063 - accuracy: 0.6901\n",
            "Epoch 56/170\n",
            "77/77 [==============================] - 0s 989us/step - loss: 0.5734 - accuracy: 0.7070\n",
            "Epoch 57/170\n",
            "77/77 [==============================] - 0s 926us/step - loss: 0.5975 - accuracy: 0.7344\n",
            "Epoch 58/170\n",
            "77/77 [==============================] - 0s 953us/step - loss: 0.5713 - accuracy: 0.7109\n",
            "Epoch 59/170\n",
            "77/77 [==============================] - 0s 946us/step - loss: 0.5550 - accuracy: 0.7148\n",
            "Epoch 60/170\n",
            "77/77 [==============================] - 0s 920us/step - loss: 0.5503 - accuracy: 0.7383\n",
            "Epoch 61/170\n",
            "77/77 [==============================] - 0s 951us/step - loss: 0.5533 - accuracy: 0.7201\n",
            "Epoch 62/170\n",
            "77/77 [==============================] - 0s 994us/step - loss: 0.5718 - accuracy: 0.7292\n",
            "Epoch 63/170\n",
            "77/77 [==============================] - 0s 971us/step - loss: 0.5562 - accuracy: 0.7279\n",
            "Epoch 64/170\n",
            "77/77 [==============================] - 0s 941us/step - loss: 0.5958 - accuracy: 0.6979\n",
            "Epoch 65/170\n",
            "77/77 [==============================] - 0s 969us/step - loss: 0.5891 - accuracy: 0.7018\n",
            "Epoch 66/170\n",
            "77/77 [==============================] - 0s 942us/step - loss: 0.5504 - accuracy: 0.7240\n",
            "Epoch 67/170\n",
            "77/77 [==============================] - 0s 916us/step - loss: 0.5603 - accuracy: 0.7331\n",
            "Epoch 68/170\n",
            "77/77 [==============================] - 0s 921us/step - loss: 0.5878 - accuracy: 0.7057\n",
            "Epoch 69/170\n",
            "77/77 [==============================] - 0s 1ms/step - loss: 0.5427 - accuracy: 0.7487\n",
            "Epoch 70/170\n",
            "77/77 [==============================] - 0s 938us/step - loss: 0.5383 - accuracy: 0.7370\n",
            "Epoch 71/170\n",
            "77/77 [==============================] - 0s 939us/step - loss: 0.5922 - accuracy: 0.7005\n",
            "Epoch 72/170\n",
            "77/77 [==============================] - 0s 915us/step - loss: 0.5696 - accuracy: 0.7305\n",
            "Epoch 73/170\n",
            "77/77 [==============================] - 0s 1ms/step - loss: 0.5313 - accuracy: 0.7357\n",
            "Epoch 74/170\n",
            "77/77 [==============================] - 0s 968us/step - loss: 0.5290 - accuracy: 0.7487\n",
            "Epoch 75/170\n",
            "77/77 [==============================] - 0s 981us/step - loss: 0.5261 - accuracy: 0.7422\n",
            "Epoch 76/170\n",
            "77/77 [==============================] - 0s 924us/step - loss: 0.5510 - accuracy: 0.7240\n",
            "Epoch 77/170\n",
            "77/77 [==============================] - 0s 928us/step - loss: 0.5469 - accuracy: 0.7331\n",
            "Epoch 78/170\n",
            "77/77 [==============================] - 0s 941us/step - loss: 0.5511 - accuracy: 0.7279\n",
            "Epoch 79/170\n",
            "77/77 [==============================] - 0s 916us/step - loss: 0.5299 - accuracy: 0.7383\n",
            "Epoch 80/170\n",
            "77/77 [==============================] - 0s 918us/step - loss: 0.5673 - accuracy: 0.7227\n",
            "Epoch 81/170\n",
            "77/77 [==============================] - 0s 963us/step - loss: 0.5786 - accuracy: 0.7331\n",
            "Epoch 82/170\n",
            "77/77 [==============================] - 0s 991us/step - loss: 0.5577 - accuracy: 0.7266\n",
            "Epoch 83/170\n",
            "77/77 [==============================] - 0s 1ms/step - loss: 0.5504 - accuracy: 0.7201\n",
            "Epoch 84/170\n",
            "77/77 [==============================] - 0s 982us/step - loss: 0.5494 - accuracy: 0.7344\n",
            "Epoch 85/170\n",
            "77/77 [==============================] - 0s 930us/step - loss: 0.5672 - accuracy: 0.7227\n",
            "Epoch 86/170\n",
            "77/77 [==============================] - 0s 1ms/step - loss: 0.5529 - accuracy: 0.7279\n",
            "Epoch 87/170\n",
            "77/77 [==============================] - 0s 1ms/step - loss: 0.5361 - accuracy: 0.7383\n",
            "Epoch 88/170\n",
            "77/77 [==============================] - 0s 987us/step - loss: 0.5181 - accuracy: 0.7383\n",
            "Epoch 89/170\n",
            "77/77 [==============================] - 0s 975us/step - loss: 0.5381 - accuracy: 0.7331\n",
            "Epoch 90/170\n",
            "77/77 [==============================] - 0s 937us/step - loss: 0.5201 - accuracy: 0.7526\n",
            "Epoch 91/170\n",
            "77/77 [==============================] - 0s 981us/step - loss: 0.5738 - accuracy: 0.7109\n",
            "Epoch 92/170\n",
            "77/77 [==============================] - 0s 1ms/step - loss: 0.5171 - accuracy: 0.7292\n",
            "Epoch 93/170\n",
            "77/77 [==============================] - 0s 999us/step - loss: 0.5600 - accuracy: 0.7214\n",
            "Epoch 94/170\n",
            "77/77 [==============================] - 0s 987us/step - loss: 0.5164 - accuracy: 0.7565\n",
            "Epoch 95/170\n",
            "77/77 [==============================] - 0s 977us/step - loss: 0.5463 - accuracy: 0.7448\n",
            "Epoch 96/170\n",
            "77/77 [==============================] - 0s 933us/step - loss: 0.5297 - accuracy: 0.7292\n",
            "Epoch 97/170\n",
            "77/77 [==============================] - 0s 956us/step - loss: 0.5467 - accuracy: 0.7318\n",
            "Epoch 98/170\n",
            "77/77 [==============================] - 0s 943us/step - loss: 0.5337 - accuracy: 0.7292\n",
            "Epoch 99/170\n",
            "77/77 [==============================] - 0s 890us/step - loss: 0.5253 - accuracy: 0.7370\n",
            "Epoch 100/170\n",
            "77/77 [==============================] - 0s 1ms/step - loss: 0.5167 - accuracy: 0.7513\n",
            "Epoch 101/170\n",
            "77/77 [==============================] - 0s 1ms/step - loss: 0.5287 - accuracy: 0.7344\n",
            "Epoch 102/170\n",
            "77/77 [==============================] - 0s 961us/step - loss: 0.5081 - accuracy: 0.7409\n",
            "Epoch 103/170\n",
            "77/77 [==============================] - 0s 950us/step - loss: 0.5232 - accuracy: 0.7448\n",
            "Epoch 104/170\n",
            "77/77 [==============================] - 0s 957us/step - loss: 0.5260 - accuracy: 0.7357\n",
            "Epoch 105/170\n",
            "77/77 [==============================] - 0s 976us/step - loss: 0.5199 - accuracy: 0.7461\n",
            "Epoch 106/170\n",
            "77/77 [==============================] - 0s 887us/step - loss: 0.5095 - accuracy: 0.7682\n",
            "Epoch 107/170\n",
            "77/77 [==============================] - 0s 1ms/step - loss: 0.5616 - accuracy: 0.7409\n",
            "Epoch 108/170\n",
            "77/77 [==============================] - 0s 990us/step - loss: 0.5475 - accuracy: 0.7565\n",
            "Epoch 109/170\n",
            "77/77 [==============================] - 0s 940us/step - loss: 0.5028 - accuracy: 0.7513\n",
            "Epoch 110/170\n",
            "77/77 [==============================] - 0s 943us/step - loss: 0.5447 - accuracy: 0.7435\n",
            "Epoch 111/170\n",
            "77/77 [==============================] - 0s 892us/step - loss: 0.5165 - accuracy: 0.7513\n",
            "Epoch 112/170\n",
            "77/77 [==============================] - 0s 942us/step - loss: 0.5071 - accuracy: 0.7591\n",
            "Epoch 113/170\n",
            "77/77 [==============================] - 0s 934us/step - loss: 0.5477 - accuracy: 0.7383\n",
            "Epoch 114/170\n",
            "77/77 [==============================] - 0s 1ms/step - loss: 0.5531 - accuracy: 0.7396\n",
            "Epoch 115/170\n",
            "77/77 [==============================] - 0s 946us/step - loss: 0.5220 - accuracy: 0.7344\n",
            "Epoch 116/170\n",
            "77/77 [==============================] - 0s 974us/step - loss: 0.5163 - accuracy: 0.7552\n",
            "Epoch 117/170\n",
            "77/77 [==============================] - 0s 954us/step - loss: 0.5100 - accuracy: 0.7292\n",
            "Epoch 118/170\n",
            "77/77 [==============================] - 0s 944us/step - loss: 0.5409 - accuracy: 0.7448\n",
            "Epoch 119/170\n",
            "77/77 [==============================] - 0s 934us/step - loss: 0.5068 - accuracy: 0.7500\n",
            "Epoch 120/170\n",
            "77/77 [==============================] - 0s 1ms/step - loss: 0.5267 - accuracy: 0.7565\n",
            "Epoch 121/170\n",
            "77/77 [==============================] - 0s 1ms/step - loss: 0.5048 - accuracy: 0.7539\n",
            "Epoch 122/170\n",
            "77/77 [==============================] - 0s 998us/step - loss: 0.5519 - accuracy: 0.7174\n",
            "Epoch 123/170\n",
            "77/77 [==============================] - 0s 1ms/step - loss: 0.5002 - accuracy: 0.7513\n",
            "Epoch 124/170\n",
            "77/77 [==============================] - 0s 998us/step - loss: 0.5171 - accuracy: 0.7565\n",
            "Epoch 125/170\n",
            "77/77 [==============================] - 0s 1ms/step - loss: 0.5282 - accuracy: 0.7461\n",
            "Epoch 126/170\n",
            "77/77 [==============================] - 0s 1ms/step - loss: 0.5439 - accuracy: 0.7370\n",
            "Epoch 127/170\n",
            "77/77 [==============================] - 0s 973us/step - loss: 0.4980 - accuracy: 0.7643\n",
            "Epoch 128/170\n",
            "77/77 [==============================] - 0s 1ms/step - loss: 0.5070 - accuracy: 0.7604\n",
            "Epoch 129/170\n",
            "77/77 [==============================] - 0s 985us/step - loss: 0.5412 - accuracy: 0.7500\n",
            "Epoch 130/170\n",
            "77/77 [==============================] - 0s 935us/step - loss: 0.5168 - accuracy: 0.7513\n",
            "Epoch 131/170\n",
            "77/77 [==============================] - 0s 942us/step - loss: 0.5022 - accuracy: 0.7565\n",
            "Epoch 132/170\n",
            "77/77 [==============================] - 0s 1ms/step - loss: 0.5498 - accuracy: 0.7357\n",
            "Epoch 133/170\n",
            "77/77 [==============================] - 0s 948us/step - loss: 0.5175 - accuracy: 0.7539\n",
            "Epoch 134/170\n",
            "77/77 [==============================] - 0s 938us/step - loss: 0.5262 - accuracy: 0.7526\n",
            "Epoch 135/170\n",
            "77/77 [==============================] - 0s 955us/step - loss: 0.5460 - accuracy: 0.7135\n",
            "Epoch 136/170\n",
            "77/77 [==============================] - 0s 971us/step - loss: 0.5333 - accuracy: 0.7383\n",
            "Epoch 137/170\n",
            "77/77 [==============================] - 0s 988us/step - loss: 0.5280 - accuracy: 0.7500\n",
            "Epoch 138/170\n",
            "77/77 [==============================] - 0s 1ms/step - loss: 0.5022 - accuracy: 0.7643\n",
            "Epoch 139/170\n",
            "77/77 [==============================] - 0s 958us/step - loss: 0.4999 - accuracy: 0.7461\n",
            "Epoch 140/170\n",
            "77/77 [==============================] - 0s 973us/step - loss: 0.4952 - accuracy: 0.7747\n",
            "Epoch 141/170\n",
            "77/77 [==============================] - 0s 938us/step - loss: 0.5220 - accuracy: 0.7565\n",
            "Epoch 142/170\n",
            "77/77 [==============================] - 0s 1ms/step - loss: 0.5357 - accuracy: 0.7487\n",
            "Epoch 143/170\n",
            "77/77 [==============================] - 0s 1ms/step - loss: 0.5004 - accuracy: 0.7617\n",
            "Epoch 144/170\n",
            "77/77 [==============================] - 0s 1ms/step - loss: 0.5151 - accuracy: 0.7513\n",
            "Epoch 145/170\n",
            "77/77 [==============================] - 0s 997us/step - loss: 0.5566 - accuracy: 0.7318\n",
            "Epoch 146/170\n",
            "77/77 [==============================] - 0s 1ms/step - loss: 0.5086 - accuracy: 0.7734\n",
            "Epoch 147/170\n",
            "77/77 [==============================] - 0s 1ms/step - loss: 0.5329 - accuracy: 0.7383\n",
            "Epoch 148/170\n",
            "77/77 [==============================] - 0s 1ms/step - loss: 0.5142 - accuracy: 0.7500\n",
            "Epoch 149/170\n",
            "77/77 [==============================] - 0s 942us/step - loss: 0.5276 - accuracy: 0.7578\n",
            "Epoch 150/170\n",
            "77/77 [==============================] - 0s 975us/step - loss: 0.5122 - accuracy: 0.7552\n",
            "Epoch 151/170\n",
            "77/77 [==============================] - 0s 950us/step - loss: 0.4940 - accuracy: 0.7578\n",
            "Epoch 152/170\n",
            "77/77 [==============================] - 0s 988us/step - loss: 0.5007 - accuracy: 0.7695\n",
            "Epoch 153/170\n",
            "77/77 [==============================] - 0s 1ms/step - loss: 0.5057 - accuracy: 0.7565\n",
            "Epoch 154/170\n",
            "77/77 [==============================] - 0s 1ms/step - loss: 0.4924 - accuracy: 0.7552\n",
            "Epoch 155/170\n",
            "77/77 [==============================] - 0s 1ms/step - loss: 0.5020 - accuracy: 0.7643\n",
            "Epoch 156/170\n",
            "77/77 [==============================] - 0s 1ms/step - loss: 0.5076 - accuracy: 0.7591\n",
            "Epoch 157/170\n",
            "77/77 [==============================] - 0s 1ms/step - loss: 0.4934 - accuracy: 0.7643\n",
            "Epoch 158/170\n",
            "77/77 [==============================] - 0s 1ms/step - loss: 0.5061 - accuracy: 0.7591\n",
            "Epoch 159/170\n",
            "77/77 [==============================] - 0s 1ms/step - loss: 0.5991 - accuracy: 0.7031\n",
            "Epoch 160/170\n",
            "77/77 [==============================] - 0s 1ms/step - loss: 0.5284 - accuracy: 0.7474\n",
            "Epoch 161/170\n",
            "77/77 [==============================] - 0s 1ms/step - loss: 0.4895 - accuracy: 0.7487\n",
            "Epoch 162/170\n",
            "77/77 [==============================] - 0s 983us/step - loss: 0.5252 - accuracy: 0.7578\n",
            "Epoch 163/170\n",
            "77/77 [==============================] - 0s 966us/step - loss: 0.4809 - accuracy: 0.7721\n",
            "Epoch 164/170\n",
            "77/77 [==============================] - 0s 953us/step - loss: 0.5451 - accuracy: 0.7396\n",
            "Epoch 165/170\n",
            "77/77 [==============================] - 0s 1ms/step - loss: 0.5153 - accuracy: 0.7344\n",
            "Epoch 166/170\n",
            "77/77 [==============================] - 0s 1ms/step - loss: 0.5106 - accuracy: 0.7682\n",
            "Epoch 167/170\n",
            "77/77 [==============================] - 0s 1ms/step - loss: 0.4861 - accuracy: 0.7630\n",
            "Epoch 168/170\n",
            "77/77 [==============================] - 0s 1ms/step - loss: 0.5382 - accuracy: 0.7435\n",
            "Epoch 169/170\n",
            "77/77 [==============================] - 0s 962us/step - loss: 0.5165 - accuracy: 0.7513\n",
            "Epoch 170/170\n",
            "77/77 [==============================] - 0s 1ms/step - loss: 0.5001 - accuracy: 0.7487\n",
            "24/24 [==============================] - 0s 931us/step - loss: 0.6131 - accuracy: 0.7031\n",
            "Accuracy: 70.31\n"
          ],
          "name": "stdout"
        }
      ]
    },
    {
      "cell_type": "code",
      "metadata": {
        "id": "AZm9S3ODP6qv",
        "outputId": "d2409dc2-02f6-40e2-97c9-f489fe2b9811",
        "colab": {
          "base_uri": "https://localhost:8080/",
          "height": 87
        }
      },
      "source": [
        "print('Accuracy: %.2f' % (accuracy*100))\n",
        "\n",
        "print(\"\\n----------\")\n",
        "print('\\033[1m' + '6022 SHIBU')"
      ],
      "execution_count": null,
      "outputs": [
        {
          "output_type": "stream",
          "text": [
            "Accuracy: 70.31\n",
            "\n",
            "----------\n",
            "\u001b[1m6022 SHIBU\n"
          ],
          "name": "stdout"
        }
      ]
    },
    {
      "cell_type": "markdown",
      "metadata": {
        "id": "JNb0VzP92sLz"
      },
      "source": [
        "---\n",
        "# **Practical 5 -** AND & OR in NN\n",
        "> - Performing AND & OR Operations in the Neural Network.\n",
        "---"
      ]
    },
    {
      "cell_type": "markdown",
      "metadata": {
        "id": "Qe1aD4RA7Bgo"
      },
      "source": [
        "---\n",
        "#### **Perceptron:**\n",
        "\n",
        "1.   A Perceptron is an algorithm used for supervised learning of binary classifiers. \n",
        "\n",
        "2.   In other words, perceptron is a single-layer neural network. \n",
        "\n",
        "3. They consist of four main parts including input values, weights and bias, net sum, and an activation function.\n",
        "\n",
        "---\n",
        "\n",
        "#### **Working:-**\n",
        "\n",
        "1.   The process begins by taking all the input values and multiplying them by their weights. \n",
        "\n",
        "2. Then, all of these multiplied values are added together to create the weighted sum. The weighted sum is then applied to the activation function, producing the perceptron's output. \n",
        "\n",
        "3. The activation function plays the integral role of ensuring the output is mapped between required values such as (0,1) or (-1,1). \n",
        "\n",
        "4. It is important to note that the weight of an input is indicative of the strength of a node. \n",
        "\n",
        "5. Similarly, an input's bias value gives the ability to shift the activation function curve up or down.\n",
        "\n",
        "###### **Diagram:**\n",
        "\n",
        "![](https://drive.google.com/uc?id=1Ynm9XYWMH-Vy6kuWuhV-rO3fmKq9gO6W)\n",
        "\n",
        "---\n",
        "\n"
      ]
    },
    {
      "cell_type": "markdown",
      "metadata": {
        "id": "0N8riIne3Fei"
      },
      "source": [
        "#### `◘ Packages & Implementation`"
      ]
    },
    {
      "cell_type": "code",
      "metadata": {
        "id": "bHccfykgwk0i",
        "outputId": "cf6ed5a2-47c9-493c-aa55-47e1f175d0ed",
        "colab": {
          "base_uri": "https://localhost:8080/"
        }
      },
      "source": [
        "import numpy as np\n",
        "\n",
        "#Defining unit step function\n",
        "#Heavyside Step function. v must be a scalar\n",
        "def unitStep(v):\n",
        "  if v >= 0:\n",
        "    return 1\n",
        "  else:\n",
        "    return 0\n",
        "\n",
        "#Function implemented by a perceptron with weight vector w and bias b\n",
        "#Designing Perceptron Model\n",
        "def perceptronModel(x, w, b):\n",
        "  v = np.dot(w, x) + b\n",
        "  y = unitStep(v)\n",
        "  return y\n",
        "\n",
        "#Testing th perceptron Model\n",
        "test1 = np.array([0, 0])\n",
        "test2 = np.array([0, 1])\n",
        "test3 = np.array([1, 0])\n",
        "test4 = np.array([1, 1])\n",
        "\n",
        "#OR Logic Function\n",
        "def OR_logicFunction(x):\n",
        "  w = np.array([1, 1])           #w1 = 1, w2 = 1, b = -0.5\n",
        "  b = -0.5\n",
        "  return perceptronModel(x, w, b)\n",
        "\n",
        "#AND Logic Function\n",
        "def AND_logicFunction(x):           #ŷ = ϴ(w1x1 + w2x2 + b)\n",
        "  w = np.array([1, 1])              #w1 = 1, w2 = 1, b = -1.5\n",
        "  b = -1.5\n",
        "  return perceptronModel(x, w, b)       \n",
        "\n",
        "#NOT Logic Function\n",
        "def NOT_logicFunction(x):                   #ŷ = ϴ(wx + b)\n",
        "\treturn perceptronModel(x, w=-1, b=0.5)    #w = -1 and b = 0.5.\n",
        "\n",
        "#XOR Logic Function         \n",
        "def XOR_logicFunction(x):                 #2 NOT Gates, 2 AND Gates, 1 OR Gate       \n",
        "    g1 = AND_logicFunction(x)             #XOR(X1, X2) = AND(NOT(AND(x1, x2)), OR(x1, x2))\n",
        "    g2 = NOT_logicFunction(g1)\n",
        "    g3 = OR_logicFunction(x)\n",
        "    new_x = np.array([g2, g3])\n",
        "    output = AND_logicFunction(new_x)\n",
        "    return output\n",
        "\n",
        "print(\"OR({}, {}) = {}\".format(0, 0, OR_logicFunction(test1)))\n",
        "print(\"OR({}, {}) = {}\".format(0, 1, OR_logicFunction(test2)))\n",
        "print(\"OR({}, {}) = {}\".format(1, 0, OR_logicFunction(test3)))\n",
        "print(\"OR({}, {}) = {}\".format(1, 1, OR_logicFunction(test4)))\n",
        "\n",
        "print(\"--------\")\n",
        "\n",
        "print(\"AND({}, {}) = {}\".format(0, 0, AND_logicFunction(test1)))\n",
        "print(\"AND({}, {}) = {}\".format(0, 1, AND_logicFunction(test2)))\n",
        "print(\"AND({}, {}) = {}\".format(1, 0, AND_logicFunction(test3)))\n",
        "print(\"AND({}, {}) = {}\".format(1, 1, AND_logicFunction(test4)))\n",
        "\n",
        "print(\"--------\")\n",
        "\n",
        "print(\"NOT(0) = {}\".format(NOT_logicFunction(0)))\n",
        "print(\"NOT(1) = {}\".format(NOT_logicFunction(1)))\n",
        "\n",
        "print(\"----------\")\n",
        "\n",
        "print(\"XOR({}, {}) = {}\".format(0, 0, XOR_logicFunction(test1)))\n",
        "print(\"XOR({}, {}) = {}\".format(0, 1, XOR_logicFunction(test2)))\n",
        "print(\"XOR({}, {}) = {}\".format(1, 0, XOR_logicFunction(test3)))\n",
        "print(\"XOR({}, {}) = {}\".format(1, 1, XOR_logicFunction(test4)))\n",
        "\n",
        "print(\"\\n----------\")\n",
        "print('\\033[1m' + '6022 SHIBU')"
      ],
      "execution_count": null,
      "outputs": [
        {
          "output_type": "stream",
          "text": [
            "OR(0, 0) = 0\n",
            "OR(0, 1) = 1\n",
            "OR(1, 0) = 1\n",
            "OR(1, 1) = 1\n",
            "--------\n",
            "AND(0, 0) = 0\n",
            "AND(0, 1) = 0\n",
            "AND(1, 0) = 0\n",
            "AND(1, 1) = 1\n",
            "--------\n",
            "NOT(0) = 1\n",
            "NOT(1) = 0\n",
            "----------\n",
            "XOR(0, 0) = 0\n",
            "XOR(0, 1) = 1\n",
            "XOR(1, 0) = 1\n",
            "XOR(1, 1) = 0\n",
            "\n",
            "----------\n",
            "\u001b[1m6022 SHIBU\n"
          ],
          "name": "stdout"
        }
      ]
    },
    {
      "cell_type": "markdown",
      "metadata": {
        "id": "x5jEAhvU09ak"
      },
      "source": [
        "---\n",
        "# **Practical 6** - Cat vs NonCat\n",
        "> - Prediction Algorithm - Use of different packages on dataset of Cat and Non-Cat images.\n",
        "---"
      ]
    },
    {
      "cell_type": "markdown",
      "metadata": {
        "id": "wvrSjeMCn36I"
      },
      "source": [
        "### Description:\n",
        "\n",
        "* Data will be loaded from the test_catvnoncat.h5 and train_catvnoncat.h5 files\n",
        "\n",
        "  The load_dataset function below is responsebile for loading the above mentioned data files.\n",
        "lr_utils file includes the function load_dataset()\n",
        "\n",
        "* Loading the data (cat/non-cat)\n",
        "train_set_x_orig, train_set_y, test_set_x_orig, test_set_y, classes = load_dataset()\n",
        "\n",
        " We added \"_orig\" at the end of image datasets (train and test) because we are going to preprocess them. \n",
        " \n",
        " After preprocessing, we will end up with train_set_x and test_set_x (the labels train_set_y and test_set_y don't need any preprocessing).\n",
        " \n",
        " Each line of your train_set_x_orig and test_set_x_orig is an array representing an image. You can visualize an example by running the following code. \n",
        " \n",
        "* Feel free also to change the `index` value and re-run to see other images. \n",
        "\n",
        "  Example of a picture change the index value below to check if the image at that particular index is cat or non cat\n",
        "\n",
        "**Note: For the first image(flower) index = 30 & for the second image (Cat image) index = 24**"
      ]
    },
    {
      "cell_type": "markdown",
      "metadata": {
        "id": "M6CIcDayn90r"
      },
      "source": [
        "### `◘ Coding and implementation`"
      ]
    },
    {
      "cell_type": "code",
      "metadata": {
        "id": "_JXC9M281AQh",
        "outputId": "8b0de175-4c30-4c93-e7c7-3192db0ea9ad",
        "colab": {
          "base_uri": "https://localhost:8080/",
          "height": 286
        }
      },
      "source": [
        "import numpy as np\n",
        "import matplotlib.pyplot as plt\n",
        "import h5py\n",
        "import scipy\n",
        "from PIL import Image\n",
        "from scipy import ndimage\n",
        "%matplotlib inline\n",
        "\n",
        "def load_dataset():\n",
        "    train_dataset = h5py.File('/content/drive/My Drive/Colab Notebooks/datasets/train_catvnoncat.h5', \"r\")\n",
        "    train_set_x_orig = np.array(train_dataset[\"train_set_x\"][:]) # your train set features\n",
        "    train_set_y_orig = np.array(train_dataset[\"train_set_y\"][:]) # your train set labels\n",
        "\n",
        "    test_dataset = h5py.File('/content/drive/My Drive/Colab Notebooks/datasets/test_catvnoncat.h5', \"r\")\n",
        "    test_set_x_orig = np.array(test_dataset[\"test_set_x\"][:]) # your test set features\n",
        "    test_set_y_orig = np.array(test_dataset[\"test_set_y\"][:]) # your test set labels\n",
        "\n",
        "    classes = np.array(test_dataset[\"list_classes\"][:]) # the list of classes\n",
        "\n",
        "    train_set_y_orig = train_set_y_orig.reshape((1, train_set_y_orig.shape[0]))\n",
        "    test_set_y_orig = test_set_y_orig.reshape((1, test_set_y_orig.shape[0]))\n",
        "\n",
        "    return train_set_x_orig, train_set_y_orig, test_set_x_orig, test_set_y_orig, classes\n",
        "\n",
        "# Loading the data (non-cat)\n",
        "train_set_x_orig, train_set_y, test_set_x_orig, test_set_y, classes = load_dataset()\n",
        "index = 30\n",
        "plt.imshow(train_set_x_orig[index])\n",
        "print (\"y = \" + str(train_set_y[:, index]) + \", it's a \" + classes[np.squeeze(train_set_y[:, index])].decode(\"utf-8\") +  \" picture\")"
      ],
      "execution_count": null,
      "outputs": [
        {
          "output_type": "stream",
          "text": [
            "y = [0], it's a non-cat picture\n"
          ],
          "name": "stdout"
        },
        {
          "output_type": "display_data",
          "data": {
            "image/png": "[encoded data removed]",
            "text/plain": [
              "<Figure size 432x288 with 1 Axes>"
            ]
          },
          "metadata": {
            "tags": [],
            "needs_background": "light"
          }
        }
      ]
    },
    {
      "cell_type": "code",
      "metadata": {
        "id": "acOqN--S5ZQW",
        "outputId": "c3331954-ede1-4ee6-d6aa-7bf55a3e71d6",
        "colab": {
          "base_uri": "https://localhost:8080/",
          "height": 285
        }
      },
      "source": [
        "# Loading the data (cat)\n",
        "train_set_y_orig, train_set_x, test_set_y_orig, test_set_x, classes = load_dataset()\n",
        "index = 24\n",
        "plt.imshow(train_set_y_orig[index])\n",
        "print (\"y = \" + str(train_set_y[:, index]) + \", it's a \" + classes[np.squeeze(train_set_y[:, index])].decode(\"utf-8\") +  \" picture\")"
      ],
      "execution_count": null,
      "outputs": [
        {
          "output_type": "stream",
          "text": [
            "y = [1], it's a cat picture\n"
          ],
          "name": "stdout"
        },
        {
          "output_type": "display_data",
          "data": {
            "image/png": "[encoded data removed]",
            "text/plain": [
              "<Figure size 432x288 with 1 Axes>"
            ]
          },
          "metadata": {
            "tags": [],
            "needs_background": "light"
          }
        }
      ]
    },
    {
      "cell_type": "code",
      "metadata": {
        "id": "ASHMuOeGZLU8",
        "outputId": "5b603e29-75b6-4285-e34b-a43fe125089f",
        "colab": {
          "base_uri": "https://localhost:8080/",
          "height": 50
        }
      },
      "source": [
        "print(\"----------\")\n",
        "print('\\033[1m' + '6022 SHIBU')"
      ],
      "execution_count": null,
      "outputs": [
        {
          "output_type": "stream",
          "text": [
            "----------\n",
            "\u001b[1m6022 SHIBU\n"
          ],
          "name": "stdout"
        }
      ]
    },
    {
      "cell_type": "markdown",
      "metadata": {
        "id": "ZlizS1tYpe5S"
      },
      "source": [
        "---\n",
        "# **Practical 8 -** Simple Linear Regression\n",
        "---\n",
        "\n"
      ]
    },
    {
      "cell_type": "markdown",
      "metadata": {
        "id": "UD6lC2yAIW4U"
      },
      "source": [
        "## Description:\n",
        "\n",
        "* Linear Regression is a machine learning algorithm based on supervised learning. \n",
        "\n",
        "* It performs a regression task. Regression models a target prediction value based on independent variables. \n",
        "\n",
        "* It is mostly used for finding out the relationship between variables and forecasting. \n",
        "\n",
        "* Different regression models differ based on – the kind of relationship between dependent and independent variables, they are considering and the number of independent variables being used.\n",
        "\n",
        "![](https://drive.google.com/uc?export=view&id=1e85UJ4UxaVLQfl-LLfABEU0Mghb-6RGI)"
      ]
    },
    {
      "cell_type": "markdown",
      "metadata": {
        "id": "5XswADFd031c"
      },
      "source": [
        "#### `◘ Packages`"
      ]
    },
    {
      "cell_type": "code",
      "metadata": {
        "id": "sTa-Q0FCIXGR"
      },
      "source": [
        "import matplotlib.pyplot as plt\n",
        "import pandas as pd\n",
        "import numpy as np"
      ],
      "execution_count": null,
      "outputs": []
    },
    {
      "cell_type": "code",
      "metadata": {
        "id": "OcZ2h_wzGZED",
        "outputId": "5255449e-836e-45a1-ff0d-f0bf091a3845",
        "colab": {
          "base_uri": "https://localhost:8080/",
          "height": 355
        }
      },
      "source": [
        "x_and_y = [(0,1),(1,3),(2,2),(3,5),(4,7),(5,8),(6,8),(7,9),(8,10),(9,12)]\n",
        "data = pd.DataFrame(x_and_y, columns=['X','y'])\n",
        "data"
      ],
      "execution_count": null,
      "outputs": [
        {
          "output_type": "execute_result",
          "data": {
            "text/html": [
              "<div>\n",
              "<style scoped>\n",
              "    .dataframe tbody tr th:only-of-type {\n",
              "        vertical-align: middle;\n",
              "    }\n",
              "\n",
              "    .dataframe tbody tr th {\n",
              "        vertical-align: top;\n",
              "    }\n",
              "\n",
              "    .dataframe thead th {\n",
              "        text-align: right;\n",
              "    }\n",
              "</style>\n",
              "<table border=\"1\" class=\"dataframe\">\n",
              "  <thead>\n",
              "    <tr style=\"text-align: right;\">\n",
              "      <th></th>\n",
              "      <th>X</th>\n",
              "      <th>y</th>\n",
              "    </tr>\n",
              "  </thead>\n",
              "  <tbody>\n",
              "    <tr>\n",
              "      <th>0</th>\n",
              "      <td>0</td>\n",
              "      <td>1</td>\n",
              "    </tr>\n",
              "    <tr>\n",
              "      <th>1</th>\n",
              "      <td>1</td>\n",
              "      <td>3</td>\n",
              "    </tr>\n",
              "    <tr>\n",
              "      <th>2</th>\n",
              "      <td>2</td>\n",
              "      <td>2</td>\n",
              "    </tr>\n",
              "    <tr>\n",
              "      <th>3</th>\n",
              "      <td>3</td>\n",
              "      <td>5</td>\n",
              "    </tr>\n",
              "    <tr>\n",
              "      <th>4</th>\n",
              "      <td>4</td>\n",
              "      <td>7</td>\n",
              "    </tr>\n",
              "    <tr>\n",
              "      <th>5</th>\n",
              "      <td>5</td>\n",
              "      <td>8</td>\n",
              "    </tr>\n",
              "    <tr>\n",
              "      <th>6</th>\n",
              "      <td>6</td>\n",
              "      <td>8</td>\n",
              "    </tr>\n",
              "    <tr>\n",
              "      <th>7</th>\n",
              "      <td>7</td>\n",
              "      <td>9</td>\n",
              "    </tr>\n",
              "    <tr>\n",
              "      <th>8</th>\n",
              "      <td>8</td>\n",
              "      <td>10</td>\n",
              "    </tr>\n",
              "    <tr>\n",
              "      <th>9</th>\n",
              "      <td>9</td>\n",
              "      <td>12</td>\n",
              "    </tr>\n",
              "  </tbody>\n",
              "</table>\n",
              "</div>"
            ],
            "text/plain": [
              "   X   y\n",
              "0  0   1\n",
              "1  1   3\n",
              "2  2   2\n",
              "3  3   5\n",
              "4  4   7\n",
              "5  5   8\n",
              "6  6   8\n",
              "7  7   9\n",
              "8  8  10\n",
              "9  9  12"
            ]
          },
          "metadata": {
            "tags": []
          },
          "execution_count": 2
        }
      ]
    },
    {
      "cell_type": "markdown",
      "metadata": {
        "id": "cvbEl-4k1FIW"
      },
      "source": [
        "#### `◘ Plotting`"
      ]
    },
    {
      "cell_type": "code",
      "metadata": {
        "id": "Xyg4HQGoGZRI",
        "outputId": "ded3b1b2-3701-4c57-e7bb-43a04ca09c64",
        "colab": {
          "base_uri": "https://localhost:8080/",
          "height": 302
        }
      },
      "source": [
        "X = data['X']\n",
        "y = data['y']\n",
        "b = 0\n",
        "w = 1.5\n",
        "\n",
        "y_predicted = b + w * X\n",
        "error = y - y_predicted\n",
        "print(np.mean(error**2))\n",
        "plt.scatter(X,y)\n",
        "plt.plot(X, y_predicted)"
      ],
      "execution_count": null,
      "outputs": [
        {
          "output_type": "stream",
          "text": [
            "1.525\n"
          ],
          "name": "stdout"
        },
        {
          "output_type": "execute_result",
          "data": {
            "text/plain": [
              "[<matplotlib.lines.Line2D at 0x7f577877e1d0>]"
            ]
          },
          "metadata": {
            "tags": []
          },
          "execution_count": 4
        },
        {
          "output_type": "display_data",
          "data": {
            "image/png": "[encoded data removed]",
            "text/plain": [
              "<Figure size 432x288 with 1 Axes>"
            ]
          },
          "metadata": {
            "tags": [],
            "needs_background": "light"
          }
        }
      ]
    },
    {
      "cell_type": "code",
      "metadata": {
        "id": "GQ62e6tbjdmO",
        "outputId": "24ce61d5-59e5-4373-aba9-583bf3e8445b",
        "colab": {
          "base_uri": "https://localhost:8080/",
          "height": 69
        }
      },
      "source": [
        "print(\"\\n----------\")\n",
        "print('\\033[1m' + '6022 SHIBU')"
      ],
      "execution_count": null,
      "outputs": [
        {
          "output_type": "stream",
          "text": [
            "\n",
            "----------\n",
            "\u001b[1m6022 SHIBU\n"
          ],
          "name": "stdout"
        }
      ]
    },
    {
      "cell_type": "markdown",
      "metadata": {
        "id": "ook5uY-U698v"
      },
      "source": [
        "---\n",
        "# **Practical 9 -** Support Vector Algorithm\n",
        "\n",
        ">- Implement Support Vector Algorithm\n",
        "---\n"
      ]
    },
    {
      "cell_type": "markdown",
      "metadata": {
        "id": "a1Y49x0M7WUD"
      },
      "source": [
        "### Description:\n",
        "\n",
        "* Itis a supervised machine learning algorithm which can be used for both classification or regression challenges. \n",
        "\n",
        "* However,  it is mostly used in classification problems. In the SVM algorithm, we plot each data item as a point in n-dimensional space (where n is number of features you have) with the value of each feature being the value of a particular coordinate. \n",
        "\n",
        "* Then, we perform classification by finding the hyper-plane that differentiates the two classes very well.\n",
        "\n",
        "![](https://drive.google.com/uc?id=1qsbhpArP9qBIsAa-JEJImF1eU0uWrKUp)\n"
      ]
    },
    {
      "cell_type": "markdown",
      "metadata": {
        "id": "3QBuGEWT7o2h"
      },
      "source": [
        "### `◘ Coding and implementation`"
      ]
    },
    {
      "cell_type": "code",
      "metadata": {
        "id": "jn5l_2hh7ZQD",
        "outputId": "c93b82b6-2aaf-4a68-8cec-b98f70a645d0",
        "colab": {
          "base_uri": "https://localhost:8080/",
          "height": 565
        }
      },
      "source": [
        "# Support Vector Algorithm\n",
        "\n",
        "import numpy as np\n",
        "import matplotlib.pyplot as plt\n",
        "from matplotlib import style\n",
        "style.use(\"ggplot\")\n",
        "from sklearn import svm\n",
        "\n",
        "x = [1, 5, 1.5, 8, 1, 9]\n",
        "y = [2, 8, 1.8, 8, 0.6, 11]\n",
        "plt.scatter(x,y)\n",
        "plt.show()\n",
        "X = np.array([[1, 2],\n",
        "             [5, 8],\n",
        "             [1.5, 1.8],\n",
        "             [8,8],\n",
        "             [1, 0.6],\n",
        "             [9, 11]])\n",
        "y = np.array([0, 1, 0, 1, 0, 1])\n",
        "\n",
        "clf = svm.SVC(kernel='linear', C = 1.0)\n",
        "clf.fit(X,y)\n",
        "w = clf.coef_[0]\n",
        "\n",
        "a = -w[0] / w[1]\n",
        "\n",
        "xx = np.linspace(0,12)\n",
        "yy = a * xx -clf.intercept_[0] / w[1]\n",
        "\n",
        "h0 = plt.plot(xx, yy, 'k-', label=\"non weighted div\")\n",
        "\n",
        "plt.scatter(X[:, 0], X[:, 1], c = y)\n",
        "plt.legend()\n",
        "plt.show()\n",
        "\n",
        "print(\"\\n----------\")\n",
        "print('\\033[1m' + '6022 SHIBU')"
      ],
      "execution_count": null,
      "outputs": [
        {
          "output_type": "display_data",
          "data": {
            "image/png": "[encoded data removed]",
            "text/plain": [
              "<Figure size 432x288 with 1 Axes>"
            ]
          },
          "metadata": {
            "tags": []
          }
        },
        {
          "output_type": "display_data",
          "data": {
            "image/png": "[encoded data removed]",
            "text/plain": [
              "<Figure size 432x288 with 1 Axes>"
            ]
          },
          "metadata": {
            "tags": []
          }
        },
        {
          "output_type": "stream",
          "text": [
            "\n",
            "----------\n",
            "\u001b[1m6022 SHIBU\n"
          ],
          "name": "stdout"
        }
      ]
    },
    {
      "cell_type": "markdown",
      "metadata": {
        "id": "Ozz2y0fB89LP"
      },
      "source": [
        "---\n",
        "# **Practical 10 -** Decision Tree Learning\n",
        "\n",
        ">- Implement Decision Tree Learning Algorithm\n",
        "---"
      ]
    },
    {
      "cell_type": "markdown",
      "metadata": {
        "id": "hMayw3ph9G17"
      },
      "source": [
        "### Description:\n",
        "\n",
        "* Decision Tree Analysis is a general, predictive modelling tool that has applications spanning a number of different areas. In general, decision trees are constructed via an algorithmic approach that identifies ways to split a data set based on different conditions.\n",
        "\n",
        "* The terminologies are:\n",
        "\n",
        "1. Instances: Refer to the vector of features or attributes that define the input space\n",
        "\n",
        "2. Attribute: A quantity describing an instance\n",
        "\n",
        "3. Concept: The function that maps input to output\n",
        "\n",
        "4. Target Concept: The function that we are trying to find, i.e., the actual answer\n",
        "\n",
        "5. Hypothesis Class: Set of all the possible functions\n",
        "\n",
        "6. Sample: A set of inputs paired with a label, which is the correct output (also known as the Training Set)\n",
        "\n",
        "7. Candidate Concept: A concept which we think is the target concept\n",
        "\n",
        "8. Testing Set: Similar to the training set and is used to test the candidate concept and determine its performance\n",
        "\n",
        "* A decision tree is a tree-like graph with nodes representing the place where we pick an attribute and ask a question; edges represent the answers the to the question; and the leaves represent the actual output or class label. They are used in non-linear decision making with simple linear decision surface.\n",
        "\n",
        "* Decision trees classify the examples by sorting them down the tree from the root to some leaf node, with the leaf node providing the classification to the example. Each node in the tree acts as a test case for some attribute, and each edge descending from that node corresponds to one of the possible answers to the test case. This process is recursive in nature and is repeated for every subtree rooted at the new nodes.\n",
        "\n",
        "![](https://drive.google.com/uc?id=1UNRf6ZgnheoyfK0PhU1oQ32ppynDBPSp)\n",
        "\n",
        "    Fig 1. A decision tree for the concept Play Badminton\n",
        "\n",
        "![](https://drive.google.com/uc?id=1iJ64QAYkjcYKmPgKhcYGPBbJDdmzR8nl)\n",
        "\n",
        "\n",
        "    Fig 2. A decision tree for the concept Play Badminton (when attributes are continuous)\n",
        "\n",
        "\n"
      ]
    },
    {
      "cell_type": "markdown",
      "metadata": {
        "id": "KuXYaaaZHVQC"
      },
      "source": [
        "### `◘ Coding part`"
      ]
    },
    {
      "cell_type": "code",
      "metadata": {
        "id": "OzcZQJg09aAJ",
        "outputId": "b62ef1df-564a-4c1f-88e3-6b1528ced612",
        "colab": {
          "base_uri": "https://localhost:8080/",
          "height": 1000
        }
      },
      "source": [
        "# Here we have taken a decision tree for Iris Dataset\n",
        "\n",
        "from sklearn.datasets import load_iris\n",
        "from sklearn.tree import DecisionTreeClassifier\n",
        "from sklearn.model_selection import train_test_split\n",
        "from sklearn.metrics import confusion_matrix\n",
        "from sklearn.tree import export_graphviz\n",
        "from sklearn.externals.six import StringIO\n",
        "from IPython.display import Image\n",
        "from pydot import graph_from_dot_data\n",
        "import pandas as pd\n",
        "import numpy as np\n",
        "\n",
        "iris = load_iris()\n",
        "X = pd.DataFrame(iris.data, columns=iris.feature_names)\n",
        "print(\"Following are the columns of iris dataset\\n\")\n",
        "print(X)\n",
        "print(\"\\n\\n\")\n",
        "y = pd.Categorical.from_codes(iris.target, iris.target_names)\n",
        "\n",
        "X.head()\n",
        "y = pd.get_dummies(y)\n",
        "\n",
        "X_train, X_test, y_train, y_test = train_test_split(X, y, random_state=1)\n",
        "dt = DecisionTreeClassifier()\n",
        "dt.fit(X_train, y_train)\n",
        "\n",
        "dot_data = StringIO()\n",
        "export_graphviz(dt, out_file=dot_data, feature_names=iris.feature_names)\n",
        "(graph, ) = graph_from_dot_data(dot_data.getvalue())\n",
        "Image(graph.create_png())"
      ],
      "execution_count": null,
      "outputs": [
        {
          "output_type": "stream",
          "text": [
            "/usr/local/lib/python3.6/dist-packages/sklearn/externals/six.py:31: FutureWarning: The module is deprecated in version 0.21 and will be removed in version 0.23 since we've dropped support for Python 2.7. Please rely on the official version of six (https://pypi.org/project/six/).\n",
            "  \"(https://pypi.org/project/six/).\", FutureWarning)\n"
          ],
          "name": "stderr"
        },
        {
          "output_type": "stream",
          "text": [
            "Following are the columns of iris dataset\n",
            "\n",
            "     sepal length (cm)  sepal width (cm)  petal length (cm)  petal width (cm)\n",
            "0                  5.1               3.5                1.4               0.2\n",
            "1                  4.9               3.0                1.4               0.2\n",
            "2                  4.7               3.2                1.3               0.2\n",
            "3                  4.6               3.1                1.5               0.2\n",
            "4                  5.0               3.6                1.4               0.2\n",
            "..                 ...               ...                ...               ...\n",
            "145                6.7               3.0                5.2               2.3\n",
            "146                6.3               2.5                5.0               1.9\n",
            "147                6.5               3.0                5.2               2.0\n",
            "148                6.2               3.4                5.4               2.3\n",
            "149                5.9               3.0                5.1               1.8\n",
            "\n",
            "[150 rows x 4 columns]\n",
            "\n",
            "\n",
            "\n"
          ],
          "name": "stdout"
        },
        {
          "output_type": "execute_result",
          "data": {
            "image/png": "[encoded data removed]",
            "text/plain": [
              "<IPython.core.display.Image object>"
            ]
          },
          "metadata": {
            "tags": []
          },
          "execution_count": 2
        }
      ]
    },
    {
      "cell_type": "code",
      "metadata": {
        "id": "fEYgq8-pjt2e",
        "outputId": "2983c7c3-71be-40a8-8f91-2e4a56ad00b4",
        "colab": {
          "base_uri": "https://localhost:8080/",
          "height": 69
        }
      },
      "source": [
        "print(\"\\n----------\")\n",
        "print('\\033[1m' + '6022 SHIBU')"
      ],
      "execution_count": null,
      "outputs": [
        {
          "output_type": "stream",
          "text": [
            "\n",
            "----------\n",
            "\u001b[1m6022 SHIBU\n"
          ],
          "name": "stdout"
        }
      ]
    },
    {
      "cell_type": "markdown",
      "metadata": {
        "id": "osqY0NRbuOD_"
      },
      "source": [
        "# **Miscellaneous**\n",
        "\n",
        "* Basically a second code for cats vs non-cats dataset"
      ]
    },
    {
      "cell_type": "code",
      "metadata": {
        "id": "RXZT2UsyIVe_",
        "outputId": "4e646f87-b8c2-4601-e728-8dc6070c5a38",
        "colab": {
          "base_uri": "https://localhost:8080/",
          "height": 228
        }
      },
      "source": [
        "!wget --no-check-certificate \\\n",
        "  https://storage.googleapis.com/mledu-datasets/cats_and_dogs_filtered.zip \\\n",
        "  -O /tmp/cats_and_dogs_filtered.zip"
      ],
      "execution_count": null,
      "outputs": [
        {
          "output_type": "stream",
          "text": [
            "--2020-09-11 02:30:38--  https://storage.googleapis.com/mledu-datasets/cats_and_dogs_filtered.zip\n",
            "Resolving storage.googleapis.com (storage.googleapis.com)... 74.125.141.128, 173.194.215.128, 108.177.13.128, ...\n",
            "Connecting to storage.googleapis.com (storage.googleapis.com)|74.125.141.128|:443... connected.\n",
            "HTTP request sent, awaiting response... 200 OK\n",
            "Length: 68606236 (65M) [application/zip]\n",
            "Saving to: ‘/tmp/cats_and_dogs_filtered.zip’\n",
            "\n",
            "/tmp/cats_and_dogs_ 100%[===================>]  65.43M   156MB/s    in 0.4s    \n",
            "\n",
            "2020-09-11 02:30:38 (156 MB/s) - ‘/tmp/cats_and_dogs_filtered.zip’ saved [68606236/68606236]\n",
            "\n"
          ],
          "name": "stdout"
        }
      ]
    },
    {
      "cell_type": "code",
      "metadata": {
        "id": "PLy3pthUS0D2"
      },
      "source": [
        "import os\n",
        "import zipfile\n",
        "\n",
        "local_zip = '/tmp/cats_and_dogs_filtered.zip'\n",
        "\n",
        "zip_ref = zipfile.ZipFile(local_zip, 'r')\n",
        "\n",
        "zip_ref.extractall('/tmp')\n",
        "zip_ref.close()"
      ],
      "execution_count": null,
      "outputs": []
    },
    {
      "cell_type": "code",
      "metadata": {
        "id": "MLZKVtE0dSfk"
      },
      "source": [
        "base_dir = '/tmp/cats_and_dogs_filtered'\n",
        "\n",
        "train_dir = os.path.join(base_dir, 'train')\n",
        "validation_dir = os.path.join(base_dir, 'validation')\n",
        "\n",
        "# Directory with our training cat/dog pictures\n",
        "train_cats_dir = os.path.join(train_dir, 'cats')\n",
        "train_dogs_dir = os.path.join(train_dir, 'dogs')\n",
        "\n",
        "# Directory with our validation cat/dog pictures\n",
        "validation_cats_dir = os.path.join(validation_dir, 'cats')\n",
        "validation_dogs_dir = os.path.join(validation_dir, 'dogs')\n"
      ],
      "execution_count": null,
      "outputs": []
    },
    {
      "cell_type": "code",
      "metadata": {
        "id": "H4XHh2xSfgie",
        "outputId": "f2e8a7d1-dd35-49e5-e53d-f44443cf4681",
        "colab": {
          "base_uri": "https://localhost:8080/",
          "height": 87
        }
      },
      "source": [
        "print('total training cat images :', len(os.listdir(      train_cats_dir ) ))\n",
        "print('total training dog images :', len(os.listdir(      train_dogs_dir ) ))\n",
        "\n",
        "print('total validation cat images :', len(os.listdir( validation_cats_dir ) ))\n",
        "print('total validation dog images :', len(os.listdir( validation_dogs_dir ) ))"
      ],
      "execution_count": null,
      "outputs": [
        {
          "output_type": "stream",
          "text": [
            "total training cat images : 1000\n",
            "total training dog images : 1000\n",
            "total validation cat images : 500\n",
            "total validation dog images : 500\n"
          ],
          "name": "stdout"
        }
      ]
    },
    {
      "cell_type": "code",
      "metadata": {
        "id": "qvfZg3LQbD-5"
      },
      "source": [
        "import tensorflow as tf"
      ],
      "execution_count": null,
      "outputs": []
    },
    {
      "cell_type": "code",
      "metadata": {
        "id": "PixZ2s5QbYQ3"
      },
      "source": [
        "model = tf.keras.models.Sequential([\n",
        "                                    \n",
        "    # Note the input shape is the desired size of the image 150x150 with 3 bytes color\n",
        "    tf.keras.layers.Conv2D(16, (3,3), activation='relu', input_shape=(150, 150, 3)),\n",
        "    tf.keras.layers.MaxPooling2D(2,2),\n",
        "    tf.keras.layers.Conv2D(32, (3,3), activation='relu'),\n",
        "    tf.keras.layers.MaxPooling2D(2,2), \n",
        "    tf.keras.layers.Conv2D(64, (3,3), activation='relu'), \n",
        "    tf.keras.layers.MaxPooling2D(2,2),\n",
        "\n",
        "    # Flatten the results to feed into a DNN\n",
        "    tf.keras.layers.Flatten(), \n",
        "\n",
        "    # 512 neuron hidden layer\n",
        "    tf.keras.layers.Dense(512, activation='relu'), \n",
        "    \n",
        "    # Only 1 output neuron. It will contain a value from 0-1 where 0 for 1 class ('cats') and 1 for the other ('dogs')\n",
        "    tf.keras.layers.Dense(1, activation='sigmoid')  \n",
        "])"
      ],
      "execution_count": null,
      "outputs": []
    },
    {
      "cell_type": "code",
      "metadata": {
        "id": "7ZKj8392nbgP",
        "outputId": "01ceeeb9-7edd-481c-bc67-5ac57fcb4218",
        "colab": {
          "base_uri": "https://localhost:8080/",
          "height": 468
        }
      },
      "source": [
        "model.summary()"
      ],
      "execution_count": null,
      "outputs": [
        {
          "output_type": "stream",
          "text": [
            "Model: \"sequential_1\"\n",
            "_________________________________________________________________\n",
            "Layer (type)                 Output Shape              Param #   \n",
            "=================================================================\n",
            "conv2d_3 (Conv2D)            (None, 148, 148, 16)      448       \n",
            "_________________________________________________________________\n",
            "max_pooling2d_3 (MaxPooling2 (None, 74, 74, 16)        0         \n",
            "_________________________________________________________________\n",
            "conv2d_4 (Conv2D)            (None, 72, 72, 32)        4640      \n",
            "_________________________________________________________________\n",
            "max_pooling2d_4 (MaxPooling2 (None, 36, 36, 32)        0         \n",
            "_________________________________________________________________\n",
            "conv2d_5 (Conv2D)            (None, 34, 34, 64)        18496     \n",
            "_________________________________________________________________\n",
            "max_pooling2d_5 (MaxPooling2 (None, 17, 17, 64)        0         \n",
            "_________________________________________________________________\n",
            "flatten_1 (Flatten)          (None, 18496)             0         \n",
            "_________________________________________________________________\n",
            "dense_2 (Dense)              (None, 512)               9470464   \n",
            "_________________________________________________________________\n",
            "dense_3 (Dense)              (None, 1)                 513       \n",
            "=================================================================\n",
            "Total params: 9,494,561\n",
            "Trainable params: 9,494,561\n",
            "Non-trainable params: 0\n",
            "_________________________________________________________________\n"
          ],
          "name": "stdout"
        }
      ]
    },
    {
      "cell_type": "code",
      "metadata": {
        "id": "8DHWhFP_uhq3"
      },
      "source": [
        "from tensorflow.keras.optimizers import RMSprop\n",
        "\n",
        "model.compile(optimizer=RMSprop(lr=0.001),\n",
        "              loss='binary_crossentropy',\n",
        "              metrics = ['accuracy'])"
      ],
      "execution_count": null,
      "outputs": []
    },
    {
      "cell_type": "code",
      "metadata": {
        "id": "ClebU9NJg99G",
        "outputId": "2e16b2e0-8c82-4632-f5a5-02664acf9ea8",
        "colab": {
          "base_uri": "https://localhost:8080/",
          "height": 52
        }
      },
      "source": [
        "from tensorflow.keras.preprocessing.image import ImageDataGenerator\n",
        "\n",
        "# All images will be rescaled by 1./255.\n",
        "train_datagen = ImageDataGenerator( rescale = 1.0/255. )\n",
        "test_datagen  = ImageDataGenerator( rescale = 1.0/255. )\n",
        "\n",
        "\n",
        "# Flow training images in batches of 20 using train_datagen generator\n",
        "train_generator = train_datagen.flow_from_directory(train_dir,\n",
        "                                                    batch_size=20,\n",
        "                                                    class_mode='binary',\n",
        "                                                    target_size=(150, 150))     \n",
        "\n",
        "# Flow validation images in batches of 20 using test_datagen generator\n",
        "validation_generator =  test_datagen.flow_from_directory(validation_dir,\n",
        "                                                         batch_size=20,\n",
        "                                                         class_mode  = 'binary',\n",
        "                                                         target_size = (150, 150))\n"
      ],
      "execution_count": null,
      "outputs": [
        {
          "output_type": "stream",
          "text": [
            "Found 2000 images belonging to 2 classes.\n",
            "Found 1000 images belonging to 2 classes.\n"
          ],
          "name": "stdout"
        }
      ]
    },
    {
      "cell_type": "code",
      "metadata": {
        "id": "Fb1_lgobv81m",
        "outputId": "fa18f5ef-dc61-4300-8e89-3e186ca45b64",
        "colab": {
          "base_uri": "https://localhost:8080/",
          "height": 537
        }
      },
      "source": [
        "history = model.fit(train_generator,\n",
        "                              validation_data=validation_generator,\n",
        "                              steps_per_epoch=100,\n",
        "                              epochs=15,\n",
        "                              validation_steps=50,\n",
        "                              verbose=2)"
      ],
      "execution_count": null,
      "outputs": [
        {
          "output_type": "stream",
          "text": [
            "Epoch 1/15\n",
            "100/100 - 60s - loss: 0.7886 - accuracy: 0.5705 - val_loss: 0.6656 - val_accuracy: 0.6690\n",
            "Epoch 2/15\n",
            "100/100 - 59s - loss: 0.6327 - accuracy: 0.6630 - val_loss: 0.5977 - val_accuracy: 0.6660\n",
            "Epoch 3/15\n",
            "100/100 - 58s - loss: 0.5621 - accuracy: 0.7225 - val_loss: 0.6157 - val_accuracy: 0.6650\n",
            "Epoch 4/15\n",
            "100/100 - 58s - loss: 0.4827 - accuracy: 0.7710 - val_loss: 0.5735 - val_accuracy: 0.7190\n",
            "Epoch 5/15\n",
            "100/100 - 58s - loss: 0.4032 - accuracy: 0.8240 - val_loss: 0.7687 - val_accuracy: 0.6650\n",
            "Epoch 6/15\n",
            "100/100 - 60s - loss: 0.3166 - accuracy: 0.8695 - val_loss: 0.7786 - val_accuracy: 0.6760\n",
            "Epoch 7/15\n",
            "100/100 - 62s - loss: 0.2330 - accuracy: 0.8980 - val_loss: 0.7453 - val_accuracy: 0.7140\n",
            "Epoch 8/15\n",
            "100/100 - 59s - loss: 0.1693 - accuracy: 0.9370 - val_loss: 0.8597 - val_accuracy: 0.7250\n",
            "Epoch 9/15\n",
            "100/100 - 59s - loss: 0.1216 - accuracy: 0.9585 - val_loss: 0.9997 - val_accuracy: 0.6930\n",
            "Epoch 10/15\n",
            "100/100 - 59s - loss: 0.0772 - accuracy: 0.9680 - val_loss: 1.2988 - val_accuracy: 0.7160\n",
            "Epoch 11/15\n",
            "100/100 - 59s - loss: 0.0754 - accuracy: 0.9735 - val_loss: 1.3944 - val_accuracy: 0.7030\n",
            "Epoch 12/15\n",
            "100/100 - 60s - loss: 0.0676 - accuracy: 0.9835 - val_loss: 1.5310 - val_accuracy: 0.7160\n",
            "Epoch 13/15\n",
            "100/100 - 64s - loss: 0.0465 - accuracy: 0.9850 - val_loss: 2.2165 - val_accuracy: 0.6920\n",
            "Epoch 14/15\n",
            "100/100 - 59s - loss: 0.0469 - accuracy: 0.9865 - val_loss: 1.6934 - val_accuracy: 0.7310\n",
            "Epoch 15/15\n",
            "100/100 - 59s - loss: 0.0822 - accuracy: 0.9885 - val_loss: 1.9479 - val_accuracy: 0.7280\n"
          ],
          "name": "stdout"
        }
      ]
    },
    {
      "cell_type": "code",
      "metadata": {
        "id": "DoWp43WxJDNT",
        "outputId": "0626454e-d372-4803-c40f-0e75bc059c48",
        "colab": {
          "resources": {
            "http://localhost:8080/nbextensions/google.colab/files.js": {
              "data": "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",
              "ok": true,
              "headers": [
                [
                  "content-type",
                  "application/javascript"
                ]
              ],
              "status": 200,
              "status_text": ""
            }
          },
          "base_uri": "https://localhost:8080/",
          "height": 455
        }
      },
      "source": [
        "import numpy as np\n",
        "\n",
        "from google.colab import files\n",
        "from keras.preprocessing import image\n",
        "\n",
        "uploaded=files.upload()\n",
        "\n",
        "for fn in uploaded.keys():\n",
        " \n",
        "  # predicting images\n",
        "  path='/content/' + fn\n",
        "  img=image.load_img(path, target_size=(150, 150))\n",
        "  \n",
        "  x=image.img_to_array(img)\n",
        "  x=np.expand_dims(x, axis=0)\n",
        "  images = np.vstack([x])\n",
        "  \n",
        "  classes = model.predict(images, batch_size=10)\n",
        "  \n",
        "  print(classes[0])\n",
        "  \n",
        "  if classes[0]>0:\n",
        "    print(fn + \" is a non cat\")\n",
        "    \n",
        "  else:\n",
        "    print(fn + \" is a cat\")\n",
        " "
      ],
      "execution_count": null,
      "outputs": [
        {
          "output_type": "display_data",
          "data": {
            "text/html": [
              "\n",
              "     <input type=\"file\" id=\"files-ec7b5d46-aeab-4e26-b1cc-6c44c26ad622\" name=\"files[]\" multiple disabled\n",
              "        style=\"border:none\" />\n",
              "     <output id=\"result-ec7b5d46-aeab-4e26-b1cc-6c44c26ad622\">\n",
              "      Upload widget is only available when the cell has been executed in the\n",
              "      current browser session. Please rerun this cell to enable.\n",
              "      </output>\n",
              "      <script src=\"/nbextensions/google.colab/files.js\"></script> "
            ],
            "text/plain": [
              "<IPython.core.display.HTML object>"
            ]
          },
          "metadata": {
            "tags": []
          }
        },
        {
          "output_type": "stream",
          "text": [
            "Saving cat.2.jpg to cat.2.jpg\n",
            "Saving cat.3.jpg to cat.3.jpg\n",
            "Saving cat.4.jpg to cat.4.jpg\n",
            "Saving dog.2.jpg to dog.2.jpg\n",
            "Saving dog.4.jpg to dog.4.jpg\n",
            "Saving dog.12.jpg to dog.12.jpg\n",
            "[0.]\n",
            "cat.2.jpg is a cat\n",
            "[0.]\n",
            "cat.3.jpg is a cat\n",
            "[0.]\n",
            "cat.4.jpg is a cat\n",
            "[1.]\n",
            "dog.2.jpg is a non cat\n",
            "[1.]\n",
            "dog.4.jpg is a non cat\n",
            "[1.]\n",
            "dog.12.jpg is a non cat\n"
          ],
          "name": "stdout"
        }
      ]
    },
    {
      "cell_type": "code",
      "metadata": {
        "id": "C2Fp6Se9rKuL",
        "outputId": "912743db-6bd2-4d03-9b0f-163178bc14b8",
        "colab": {
          "base_uri": "https://localhost:8080/",
          "height": 299
        }
      },
      "source": [
        "import matplotlib.pyplot as plt\n",
        "acc = history.history['accuracy']\n",
        "val_acc = history.history['val_accuracy']\n",
        "loss = history.history['loss']\n",
        "val_loss = history.history['val_loss']\n",
        "\n",
        "epochs = range(len(acc))\n",
        "\n",
        "plt.plot(epochs, acc, 'r', label='Training accuracy')\n",
        "plt.plot(epochs, val_acc, 'b', label='Validation accuracy')\n",
        "plt.title('Training and validation accuracy')\n",
        "plt.legend(loc=0)\n",
        "plt.figure()\n",
        "\n",
        "\n",
        "plt.show()"
      ],
      "execution_count": null,
      "outputs": [
        {
          "output_type": "display_data",
          "data": {
            "image/png": "[encoded data removed]",
            "text/plain": [
              "<Figure size 432x288 with 1 Axes>"
            ]
          },
          "metadata": {
            "tags": [],
            "needs_background": "light"
          }
        },
        {
          "output_type": "display_data",
          "data": {
            "text/plain": [
              "<Figure size 432x288 with 0 Axes>"
            ]
          },
          "metadata": {
            "tags": []
          }
        }
      ]
    },
    {
      "cell_type": "code",
      "metadata": {
        "id": "BZiMp2Yp_1yv",
        "outputId": "c717fdf5-eabf-4534-8b46-1818f28ee981",
        "colab": {
          "base_uri": "https://localhost:8080/",
          "height": 277
        }
      },
      "source": [
        "loss"
      ],
      "execution_count": null,
      "outputs": [
        {
          "output_type": "execute_result",
          "data": {
            "text/plain": [
              "[0.7885891795158386,\n",
              " 0.6327358484268188,\n",
              " 0.5621000528335571,\n",
              " 0.48274996876716614,\n",
              " 0.4031623899936676,\n",
              " 0.3165750801563263,\n",
              " 0.2329723834991455,\n",
              " 0.169291153550148,\n",
              " 0.12163351476192474,\n",
              " 0.07722964882850647,\n",
              " 0.07543396204710007,\n",
              " 0.0676269605755806,\n",
              " 0.04645036906003952,\n",
              " 0.046941254287958145,\n",
              " 0.08216558396816254]"
            ]
          },
          "metadata": {
            "tags": []
          },
          "execution_count": 16
        }
      ]
    }
  ]
}
